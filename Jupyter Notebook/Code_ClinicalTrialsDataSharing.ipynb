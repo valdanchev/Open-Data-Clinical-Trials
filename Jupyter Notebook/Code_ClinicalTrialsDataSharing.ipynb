{
 "cells": [
  {
   "attachments": {},
   "cell_type": "markdown",
   "metadata": {},
   "source": [
    "# Reproducible code for the manuscript entitled \"Evaluation of Clinical Trial Data Sharing Policy in Leading Medical Journals\""
   ]
  },
  {
   "cell_type": "raw",
   "metadata": {},
   "source": [
    "This notebook computes quantities presented in Table 1 and Table 2, and plots Figure 1, Figure 2, and Figure 3  \n",
    "in the manuscript entitled \"Evaluation of Clinical Trial Data Sharing Policy in Leading Medical Journals\" by Valentin Danchev, Yan Min, John Borghi, Mike Baiocchi, and John P.A. Ioannidis."
   ]
  },
  {
   "cell_type": "code",
   "execution_count": 1,
   "metadata": {},
   "outputs": [
    {
     "name": "stdout",
     "output_type": "stream",
     "text": [
      "Python 3.6.8 :: Anaconda, Inc.\r\n"
     ]
    }
   ],
   "source": [
    "! python --version"
   ]
  },
  {
   "cell_type": "code",
   "execution_count": 2,
   "metadata": {},
   "outputs": [],
   "source": [
    "import pandas as pd\n",
    "import numpy as np\n",
    "import scipy\n",
    "import scikits.bootstrap as bootstrap\n",
    "from termcolor import colored\n",
    "import seaborn as sns\n",
    "import matplotlib.pyplot as plt"
   ]
  },
  {
   "cell_type": "code",
   "execution_count": 3,
   "metadata": {
    "scrolled": true
   },
   "outputs": [
    {
     "data": {
      "text/html": [
       "<div>\n",
       "<style scoped>\n",
       "    .dataframe tbody tr th:only-of-type {\n",
       "        vertical-align: middle;\n",
       "    }\n",
       "\n",
       "    .dataframe tbody tr th {\n",
       "        vertical-align: top;\n",
       "    }\n",
       "\n",
       "    .dataframe thead th {\n",
       "        text-align: right;\n",
       "    }\n",
       "</style>\n",
       "<table border=\"1\" class=\"dataframe\">\n",
       "  <thead>\n",
       "    <tr style=\"text-align: right;\">\n",
       "      <th></th>\n",
       "      <th>ID</th>\n",
       "      <th>Title</th>\n",
       "      <th>Authors</th>\n",
       "      <th>PublicationYearMonth</th>\n",
       "      <th>PublicationYearQuarter</th>\n",
       "      <th>DOI</th>\n",
       "      <th>PMID</th>\n",
       "      <th>Journal</th>\n",
       "      <th>DSS</th>\n",
       "      <th>DeclaredDataSharing</th>\n",
       "      <th>...</th>\n",
       "      <th>DataPrivacy</th>\n",
       "      <th>Time/Cost</th>\n",
       "      <th>OngoingTrialResearch</th>\n",
       "      <th>RegulatoryApproval</th>\n",
       "      <th>ProprietaryData</th>\n",
       "      <th>SharedAmongCoTrialistsOnly</th>\n",
       "      <th>MayBeAvailableForCollab</th>\n",
       "      <th>MayBeMadeAvailableUponRequest</th>\n",
       "      <th>FundingStatement</th>\n",
       "      <th>FunderType</th>\n",
       "    </tr>\n",
       "  </thead>\n",
       "  <tbody>\n",
       "    <tr>\n",
       "      <th>0</th>\n",
       "      <td>1</td>\n",
       "      <td>Efficacy and safety of risankizumab in modera...</td>\n",
       "      <td>Gordon KB, Strober B, Lebwohl M, Augustin M, B...</td>\n",
       "      <td>2018-8</td>\n",
       "      <td>2018-Q3</td>\n",
       "      <td>10.1016/S0140-6736(18)31713-6</td>\n",
       "      <td>30097359</td>\n",
       "      <td>Lancet</td>\n",
       "      <td>1</td>\n",
       "      <td>1</td>\n",
       "      <td>...</td>\n",
       "      <td>NaN</td>\n",
       "      <td>NaN</td>\n",
       "      <td>NaN</td>\n",
       "      <td>NaN</td>\n",
       "      <td>NaN</td>\n",
       "      <td>NaN</td>\n",
       "      <td>NaN</td>\n",
       "      <td>NaN</td>\n",
       "      <td>AbbVie and Boehringer Ingelheim.</td>\n",
       "      <td>1_Industry</td>\n",
       "    </tr>\n",
       "    <tr>\n",
       "      <th>1</th>\n",
       "      <td>2</td>\n",
       "      <td>Intravenous remifentanil patient-controlled a...</td>\n",
       "      <td>Wilson MJA, MacArthur C, Hewitt CA, Handley K,...</td>\n",
       "      <td>2018-8</td>\n",
       "      <td>2018-Q3</td>\n",
       "      <td>10.1016/S0140-6736(18)31613-1</td>\n",
       "      <td>30115484</td>\n",
       "      <td>Lancet</td>\n",
       "      <td>1</td>\n",
       "      <td>0</td>\n",
       "      <td>...</td>\n",
       "      <td>NaN</td>\n",
       "      <td>NaN</td>\n",
       "      <td>NaN</td>\n",
       "      <td>NaN</td>\n",
       "      <td>NaN</td>\n",
       "      <td>NaN</td>\n",
       "      <td>NaN</td>\n",
       "      <td>NaN</td>\n",
       "      <td>National Institute for Health Research Clinici...</td>\n",
       "      <td>3_NonIndustryNonNIH</td>\n",
       "    </tr>\n",
       "    <tr>\n",
       "      <th>2</th>\n",
       "      <td>3</td>\n",
       "      <td>Efficacy and safety of semaglutide compared w...</td>\n",
       "      <td>ONeil PM, Birkenfeld AL, McGowan B, Mosenzon O...</td>\n",
       "      <td>2018-8</td>\n",
       "      <td>2018-Q3</td>\n",
       "      <td>10.1016/S0140-6736(18)31773-2</td>\n",
       "      <td>30122305</td>\n",
       "      <td>Lancet</td>\n",
       "      <td>1</td>\n",
       "      <td>1</td>\n",
       "      <td>...</td>\n",
       "      <td>NaN</td>\n",
       "      <td>NaN</td>\n",
       "      <td>NaN</td>\n",
       "      <td>NaN</td>\n",
       "      <td>NaN</td>\n",
       "      <td>NaN</td>\n",
       "      <td>NaN</td>\n",
       "      <td>NaN</td>\n",
       "      <td>Novo Nordisk A/S.</td>\n",
       "      <td>1_Industry</td>\n",
       "    </tr>\n",
       "    <tr>\n",
       "      <th>3</th>\n",
       "      <td>4</td>\n",
       "      <td>Percutaneous Repair or Medical Treatment for ...</td>\n",
       "      <td>Obadia JF, Messika-Zeitoun D, Leurent G, Iung ...</td>\n",
       "      <td>2018-12</td>\n",
       "      <td>2018-Q4</td>\n",
       "      <td>10.1056/NEJMoa1805374</td>\n",
       "      <td>30145927</td>\n",
       "      <td>NEJM</td>\n",
       "      <td>1</td>\n",
       "      <td>0</td>\n",
       "      <td>...</td>\n",
       "      <td>NaN</td>\n",
       "      <td>NaN</td>\n",
       "      <td>NaN</td>\n",
       "      <td>NaN</td>\n",
       "      <td>NaN</td>\n",
       "      <td>NaN</td>\n",
       "      <td>NaN</td>\n",
       "      <td>NaN</td>\n",
       "      <td>Funded by the French Ministry of Health and Re...</td>\n",
       "      <td>4_Mixed</td>\n",
       "    </tr>\n",
       "    <tr>\n",
       "      <th>4</th>\n",
       "      <td>5</td>\n",
       "      <td>Tafamidis Treatment for Patients with Transth...</td>\n",
       "      <td>Maurer MS, Schwartz JH, Gundapaneni B, Elliott...</td>\n",
       "      <td>2018-9</td>\n",
       "      <td>2018-Q3</td>\n",
       "      <td>10.1056/NEJMoa1805689</td>\n",
       "      <td>30145929</td>\n",
       "      <td>NEJM</td>\n",
       "      <td>1</td>\n",
       "      <td>1</td>\n",
       "      <td>...</td>\n",
       "      <td>NaN</td>\n",
       "      <td>NaN</td>\n",
       "      <td>NaN</td>\n",
       "      <td>NaN</td>\n",
       "      <td>NaN</td>\n",
       "      <td>NaN</td>\n",
       "      <td>NaN</td>\n",
       "      <td>NaN</td>\n",
       "      <td>Funded by Pfizer</td>\n",
       "      <td>1_Industry</td>\n",
       "    </tr>\n",
       "  </tbody>\n",
       "</table>\n",
       "<p>5 rows × 41 columns</p>\n",
       "</div>"
      ],
      "text/plain": [
       "   ID                                              Title  \\\n",
       "0   1   Efficacy and safety of risankizumab in modera...   \n",
       "1   2   Intravenous remifentanil patient-controlled a...   \n",
       "2   3   Efficacy and safety of semaglutide compared w...   \n",
       "3   4   Percutaneous Repair or Medical Treatment for ...   \n",
       "4   5   Tafamidis Treatment for Patients with Transth...   \n",
       "\n",
       "                                             Authors PublicationYearMonth  \\\n",
       "0  Gordon KB, Strober B, Lebwohl M, Augustin M, B...               2018-8   \n",
       "1  Wilson MJA, MacArthur C, Hewitt CA, Handley K,...               2018-8   \n",
       "2  ONeil PM, Birkenfeld AL, McGowan B, Mosenzon O...               2018-8   \n",
       "3  Obadia JF, Messika-Zeitoun D, Leurent G, Iung ...              2018-12   \n",
       "4  Maurer MS, Schwartz JH, Gundapaneni B, Elliott...               2018-9   \n",
       "\n",
       "  PublicationYearQuarter                            DOI      PMID Journal  \\\n",
       "0                2018-Q3  10.1016/S0140-6736(18)31713-6  30097359  Lancet   \n",
       "1                2018-Q3  10.1016/S0140-6736(18)31613-1  30115484  Lancet   \n",
       "2                2018-Q3  10.1016/S0140-6736(18)31773-2  30122305  Lancet   \n",
       "3                2018-Q4          10.1056/NEJMoa1805374  30145927    NEJM   \n",
       "4                2018-Q3          10.1056/NEJMoa1805689  30145929    NEJM   \n",
       "\n",
       "   DSS  DeclaredDataSharing  ...  DataPrivacy  Time/Cost  \\\n",
       "0    1                    1  ...          NaN        NaN   \n",
       "1    1                    0  ...          NaN        NaN   \n",
       "2    1                    1  ...          NaN        NaN   \n",
       "3    1                    0  ...          NaN        NaN   \n",
       "4    1                    1  ...          NaN        NaN   \n",
       "\n",
       "   OngoingTrialResearch  RegulatoryApproval  ProprietaryData  \\\n",
       "0                   NaN                 NaN              NaN   \n",
       "1                   NaN                 NaN              NaN   \n",
       "2                   NaN                 NaN              NaN   \n",
       "3                   NaN                 NaN              NaN   \n",
       "4                   NaN                 NaN              NaN   \n",
       "\n",
       "   SharedAmongCoTrialistsOnly MayBeAvailableForCollab  \\\n",
       "0                         NaN                     NaN   \n",
       "1                         NaN                     NaN   \n",
       "2                         NaN                     NaN   \n",
       "3                         NaN                     NaN   \n",
       "4                         NaN                     NaN   \n",
       "\n",
       "   MayBeMadeAvailableUponRequest  \\\n",
       "0                            NaN   \n",
       "1                            NaN   \n",
       "2                            NaN   \n",
       "3                            NaN   \n",
       "4                            NaN   \n",
       "\n",
       "                                    FundingStatement           FunderType  \n",
       "0                   AbbVie and Boehringer Ingelheim.           1_Industry  \n",
       "1  National Institute for Health Research Clinici...  3_NonIndustryNonNIH  \n",
       "2                                  Novo Nordisk A/S.           1_Industry  \n",
       "3  Funded by the French Ministry of Health and Re...              4_Mixed  \n",
       "4                                   Funded by Pfizer           1_Industry  \n",
       "\n",
       "[5 rows x 41 columns]"
      ]
     },
     "execution_count": 3,
     "metadata": {},
     "output_type": "execute_result"
    }
   ],
   "source": [
    "# Read the file data file DATA_ClinicalTrialsDataSharing.csv\n",
    "\n",
    "ClinicalTrialsDataSharing=pd.read_csv('Data_ClinicalTrialsDataSharing.csv')\n",
    "ClinicalTrialsDataSharing.head()"
   ]
  },
  {
   "cell_type": "code",
   "execution_count": 4,
   "metadata": {},
   "outputs": [
    {
     "data": {
      "text/html": [
       "<div>\n",
       "<style scoped>\n",
       "    .dataframe tbody tr th:only-of-type {\n",
       "        vertical-align: middle;\n",
       "    }\n",
       "\n",
       "    .dataframe tbody tr th {\n",
       "        vertical-align: top;\n",
       "    }\n",
       "\n",
       "    .dataframe thead th {\n",
       "        text-align: right;\n",
       "    }\n",
       "</style>\n",
       "<table border=\"1\" class=\"dataframe\">\n",
       "  <thead>\n",
       "    <tr style=\"text-align: right;\">\n",
       "      <th></th>\n",
       "      <th>VariableName</th>\n",
       "      <th>VariableNameLong</th>\n",
       "      <th>Description</th>\n",
       "    </tr>\n",
       "  </thead>\n",
       "  <tbody>\n",
       "    <tr>\n",
       "      <th>0</th>\n",
       "      <td>ID</td>\n",
       "      <td>Article ID</td>\n",
       "      <td>Internal ID number assigned to each paper during the coding process.</td>\n",
       "    </tr>\n",
       "    <tr>\n",
       "      <th>1</th>\n",
       "      <td>Title</td>\n",
       "      <td>Article title</td>\n",
       "      <td>Title of the article</td>\n",
       "    </tr>\n",
       "    <tr>\n",
       "      <th>2</th>\n",
       "      <td>Authors</td>\n",
       "      <td>Article authors</td>\n",
       "      <td>List of article authors</td>\n",
       "    </tr>\n",
       "    <tr>\n",
       "      <th>3</th>\n",
       "      <td>PublicationYearMonth</td>\n",
       "      <td>Publication year and month</td>\n",
       "      <td>Year and month of publication for the journal article</td>\n",
       "    </tr>\n",
       "    <tr>\n",
       "      <th>4</th>\n",
       "      <td>PublicationYearQuarter</td>\n",
       "      <td>Publication year and quarter</td>\n",
       "      <td>Year and quarter of publication for the journal article</td>\n",
       "    </tr>\n",
       "    <tr>\n",
       "      <th>5</th>\n",
       "      <td>DOI</td>\n",
       "      <td>Paper DOI number</td>\n",
       "      <td>Digital object identifier for the article</td>\n",
       "    </tr>\n",
       "    <tr>\n",
       "      <th>6</th>\n",
       "      <td>PMID</td>\n",
       "      <td>Paper PMID number</td>\n",
       "      <td>PubMed ID for the article</td>\n",
       "    </tr>\n",
       "    <tr>\n",
       "      <th>7</th>\n",
       "      <td>Journal</td>\n",
       "      <td>Journal title</td>\n",
       "      <td>Title of the journal publishing the article</td>\n",
       "    </tr>\n",
       "    <tr>\n",
       "      <th>8</th>\n",
       "      <td>DSS</td>\n",
       "      <td>Data sharing statement</td>\n",
       "      <td>Text of the data sharing statement for the article.</td>\n",
       "    </tr>\n",
       "    <tr>\n",
       "      <th>9</th>\n",
       "      <td>DeclaredDataSharing</td>\n",
       "      <td>Declared data sharing</td>\n",
       "      <td>Whether or data is sharing is declared in the DSS (0=No, 1=Yes)</td>\n",
       "    </tr>\n",
       "    <tr>\n",
       "      <th>10</th>\n",
       "      <td>Individual</td>\n",
       "      <td>Individual level data</td>\n",
       "      <td>The DSS declares that individual-level data will be shared.</td>\n",
       "    </tr>\n",
       "    <tr>\n",
       "      <th>11</th>\n",
       "      <td>Aggregate</td>\n",
       "      <td>Aggregate data</td>\n",
       "      <td>The DSS declares that aggregated data will be shared.</td>\n",
       "    </tr>\n",
       "    <tr>\n",
       "      <th>12</th>\n",
       "      <td>Unspeficied</td>\n",
       "      <td>Unspecified data</td>\n",
       "      <td>The DSS does not specificy what type of data will be shared.</td>\n",
       "    </tr>\n",
       "    <tr>\n",
       "      <th>13</th>\n",
       "      <td>RqstAuthors</td>\n",
       "      <td>Request authors</td>\n",
       "      <td>The DSS declares that data is available via requesing access from one of the authors.</td>\n",
       "    </tr>\n",
       "    <tr>\n",
       "      <th>14</th>\n",
       "      <td>RqstCommGroupUnit</td>\n",
       "      <td>Request Committee, Group, or Unit</td>\n",
       "      <td>The DSS declares that data is available via requesting access from a committee, group, or unit (rather than just the corresponding author).</td>\n",
       "    </tr>\n",
       "    <tr>\n",
       "      <th>15</th>\n",
       "      <td>RqstRepository</td>\n",
       "      <td>Request Repository</td>\n",
       "      <td>The DSS declares that data is available via a data repository.</td>\n",
       "    </tr>\n",
       "    <tr>\n",
       "      <th>16</th>\n",
       "      <td>RepositoryName</td>\n",
       "      <td>Repository Name</td>\n",
       "      <td>The name of the repository where data is or planned to be shared, as stated in the DSS.</td>\n",
       "    </tr>\n",
       "    <tr>\n",
       "      <th>17</th>\n",
       "      <td>InformationAboutDataOnRepository</td>\n",
       "      <td>Information about data on repository</td>\n",
       "      <td>The DSS declares that data is available via a repository and there actually information about the data on that repository (0=no 1=yes).</td>\n",
       "    </tr>\n",
       "    <tr>\n",
       "      <th>18</th>\n",
       "      <td>DataAvailableOnRepository</td>\n",
       "      <td>Data available on repository</td>\n",
       "      <td>The DSS declares that data is available on a repository and the data is actually available on that repository (0=no 1=yes).</td>\n",
       "    </tr>\n",
       "    <tr>\n",
       "      <th>19</th>\n",
       "      <td>RqstCompany</td>\n",
       "      <td>Request company</td>\n",
       "      <td>The DSS declares that data is available through requesting access from a company.</td>\n",
       "    </tr>\n",
       "    <tr>\n",
       "      <th>20</th>\n",
       "      <td>DataAvailableToOthers</td>\n",
       "      <td>Data available to others</td>\n",
       "      <td>The DSS declares that the data is openly or publicly available or available to those who have access to the related journal article (i.e. available as a supplementary material).</td>\n",
       "    </tr>\n",
       "    <tr>\n",
       "      <th>21</th>\n",
       "      <td>AccessUnspecified</td>\n",
       "      <td>Access is unspecified</td>\n",
       "      <td>It is unclear from the DSS how access to data can be requested.</td>\n",
       "    </tr>\n",
       "    <tr>\n",
       "      <th>22</th>\n",
       "      <td>Embargo</td>\n",
       "      <td>Embargo</td>\n",
       "      <td>The DSS declares that data is availabe, but there is an embargo period (0=No, 1=Yes)</td>\n",
       "    </tr>\n",
       "    <tr>\n",
       "      <th>23</th>\n",
       "      <td>EmbargoPeriodMonths</td>\n",
       "      <td>Embargo Period in Months</td>\n",
       "      <td>The length of any embargo period in months.</td>\n",
       "    </tr>\n",
       "    <tr>\n",
       "      <th>24</th>\n",
       "      <td>EmbargoUpTo1Y</td>\n",
       "      <td>Embargo up to 1 year</td>\n",
       "      <td>The embargo period is 1 year or less.</td>\n",
       "    </tr>\n",
       "    <tr>\n",
       "      <th>25</th>\n",
       "      <td>EmbargoAbove1Yto2Y</td>\n",
       "      <td>Embargo 1 to 2 years</td>\n",
       "      <td>The embargo period is between 1 and 2 years.</td>\n",
       "    </tr>\n",
       "    <tr>\n",
       "      <th>26</th>\n",
       "      <td>EmbargoAbove2Y</td>\n",
       "      <td>Embargo above 2 years</td>\n",
       "      <td>The embargo period is greater than 2 years.</td>\n",
       "    </tr>\n",
       "    <tr>\n",
       "      <th>27</th>\n",
       "      <td>ProductApproval</td>\n",
       "      <td>Product Approval</td>\n",
       "      <td>The DSS declares that data will be made available after product approval.</td>\n",
       "    </tr>\n",
       "    <tr>\n",
       "      <th>28</th>\n",
       "      <td>EmbargoOrProductApproval</td>\n",
       "      <td>Embargo product approval</td>\n",
       "      <td>The DSS declares that the data will be made available after either the embargo or product approval</td>\n",
       "    </tr>\n",
       "    <tr>\n",
       "      <th>29</th>\n",
       "      <td>Collaboration</td>\n",
       "      <td>Collaboration</td>\n",
       "      <td>The DSS declares that the data will be made available if the requester collaborates with the original authors.</td>\n",
       "    </tr>\n",
       "    <tr>\n",
       "      <th>30</th>\n",
       "      <td>NoReason</td>\n",
       "      <td>No Reason</td>\n",
       "      <td>The DSS gives no reason why data can not be shared.</td>\n",
       "    </tr>\n",
       "    <tr>\n",
       "      <th>31</th>\n",
       "      <td>DataPrivacy</td>\n",
       "      <td>Data privacy</td>\n",
       "      <td>The DSS states that data sharing may be limited for privacy-related reasons.</td>\n",
       "    </tr>\n",
       "    <tr>\n",
       "      <th>32</th>\n",
       "      <td>Time/Cost</td>\n",
       "      <td>Time or cost</td>\n",
       "      <td>The DSS states that data sharing may be limited because of the time/financial cost required to share data.</td>\n",
       "    </tr>\n",
       "    <tr>\n",
       "      <th>33</th>\n",
       "      <td>OngoingTrialResearch</td>\n",
       "      <td>Ongoing trial or research</td>\n",
       "      <td>The DSS states that data sharing may be limited because of the research/trial is still ongoing.</td>\n",
       "    </tr>\n",
       "    <tr>\n",
       "      <th>34</th>\n",
       "      <td>RegulatoryApproval</td>\n",
       "      <td>Regulatory approval</td>\n",
       "      <td>The DSS states that data sharing may be limited because of regulatory approval.</td>\n",
       "    </tr>\n",
       "    <tr>\n",
       "      <th>35</th>\n",
       "      <td>ProprietaryData</td>\n",
       "      <td>Proprietary data</td>\n",
       "      <td>The DSS states that data sharing may be limited because the data is proprietary (i.e. the property of the sponsor).</td>\n",
       "    </tr>\n",
       "    <tr>\n",
       "      <th>36</th>\n",
       "      <td>SharedAmongCoTrialistsOnly</td>\n",
       "      <td>Data shared among co-trialists only</td>\n",
       "      <td>The DSS states that data will be shared only to trial co-investigators.</td>\n",
       "    </tr>\n",
       "    <tr>\n",
       "      <th>37</th>\n",
       "      <td>MayBeAvailableForCollab</td>\n",
       "      <td>Data may be made available for collaboration</td>\n",
       "      <td>The DSS states will not be shared but contains language implying data may be available for researchers interested in collaborating with the authors.</td>\n",
       "    </tr>\n",
       "    <tr>\n",
       "      <th>38</th>\n",
       "      <td>MayBeMadeAvailableUponRequest</td>\n",
       "      <td>Data may be made available upon request</td>\n",
       "      <td>The DSS states that data will not be shared but also contains language that implies it may be available upon request.</td>\n",
       "    </tr>\n",
       "    <tr>\n",
       "      <th>39</th>\n",
       "      <td>FundingStatement</td>\n",
       "      <td>Funding Statement from Paper</td>\n",
       "      <td>Sources of research funding, as described in the paper.</td>\n",
       "    </tr>\n",
       "    <tr>\n",
       "      <th>40</th>\n",
       "      <td>FunderType</td>\n",
       "      <td>Funder Type</td>\n",
       "      <td>Sources of research funding by category (1=Industry, 2=NIH, 3=Non-industry non-NIH, 4=Mixed)</td>\n",
       "    </tr>\n",
       "  </tbody>\n",
       "</table>\n",
       "</div>"
      ],
      "text/plain": [
       "                        VariableName  \\\n",
       "0                                 ID   \n",
       "1                              Title   \n",
       "2                            Authors   \n",
       "3               PublicationYearMonth   \n",
       "4             PublicationYearQuarter   \n",
       "5                                DOI   \n",
       "6                               PMID   \n",
       "7                            Journal   \n",
       "8                                DSS   \n",
       "9                DeclaredDataSharing   \n",
       "10                        Individual   \n",
       "11                         Aggregate   \n",
       "12                       Unspeficied   \n",
       "13                       RqstAuthors   \n",
       "14                 RqstCommGroupUnit   \n",
       "15                    RqstRepository   \n",
       "16                    RepositoryName   \n",
       "17  InformationAboutDataOnRepository   \n",
       "18         DataAvailableOnRepository   \n",
       "19                       RqstCompany   \n",
       "20             DataAvailableToOthers   \n",
       "21                 AccessUnspecified   \n",
       "22                           Embargo   \n",
       "23               EmbargoPeriodMonths   \n",
       "24                     EmbargoUpTo1Y   \n",
       "25                EmbargoAbove1Yto2Y   \n",
       "26                    EmbargoAbove2Y   \n",
       "27                   ProductApproval   \n",
       "28          EmbargoOrProductApproval   \n",
       "29                     Collaboration   \n",
       "30                          NoReason   \n",
       "31                       DataPrivacy   \n",
       "32                         Time/Cost   \n",
       "33              OngoingTrialResearch   \n",
       "34                RegulatoryApproval   \n",
       "35                   ProprietaryData   \n",
       "36        SharedAmongCoTrialistsOnly   \n",
       "37           MayBeAvailableForCollab   \n",
       "38     MayBeMadeAvailableUponRequest   \n",
       "39                  FundingStatement   \n",
       "40                        FunderType   \n",
       "\n",
       "                                VariableNameLong  \\\n",
       "0                                     Article ID   \n",
       "1                                  Article title   \n",
       "2                                Article authors   \n",
       "3                     Publication year and month   \n",
       "4                   Publication year and quarter   \n",
       "5                               Paper DOI number   \n",
       "6                              Paper PMID number   \n",
       "7                                  Journal title   \n",
       "8                         Data sharing statement   \n",
       "9                          Declared data sharing   \n",
       "10                         Individual level data   \n",
       "11                                Aggregate data   \n",
       "12                              Unspecified data   \n",
       "13                               Request authors   \n",
       "14             Request Committee, Group, or Unit   \n",
       "15                            Request Repository   \n",
       "16                               Repository Name   \n",
       "17          Information about data on repository   \n",
       "18                  Data available on repository   \n",
       "19                               Request company   \n",
       "20                      Data available to others   \n",
       "21                         Access is unspecified   \n",
       "22                                       Embargo   \n",
       "23                      Embargo Period in Months   \n",
       "24                          Embargo up to 1 year   \n",
       "25                          Embargo 1 to 2 years   \n",
       "26                         Embargo above 2 years   \n",
       "27                              Product Approval   \n",
       "28                      Embargo product approval   \n",
       "29                                 Collaboration   \n",
       "30                                     No Reason   \n",
       "31                                  Data privacy   \n",
       "32                                  Time or cost   \n",
       "33                     Ongoing trial or research   \n",
       "34                           Regulatory approval   \n",
       "35                              Proprietary data   \n",
       "36           Data shared among co-trialists only   \n",
       "37  Data may be made available for collaboration   \n",
       "38       Data may be made available upon request   \n",
       "39                  Funding Statement from Paper   \n",
       "40                                   Funder Type   \n",
       "\n",
       "                                                                                                                                                                          Description  \n",
       "0                                                                                                                Internal ID number assigned to each paper during the coding process.  \n",
       "1                                                                                                                                                                Title of the article  \n",
       "2                                                                                                                                                             List of article authors  \n",
       "3                                                                                                                               Year and month of publication for the journal article  \n",
       "4                                                                                                                             Year and quarter of publication for the journal article  \n",
       "5                                                                                                                                           Digital object identifier for the article  \n",
       "6                                                                                                                                                           PubMed ID for the article  \n",
       "7                                                                                                                                         Title of the journal publishing the article  \n",
       "8                                                                                                                                 Text of the data sharing statement for the article.  \n",
       "9                                                                                                                    Whether or data is sharing is declared in the DSS (0=No, 1=Yes)   \n",
       "10                                                                                                                        The DSS declares that individual-level data will be shared.  \n",
       "11                                                                                                                              The DSS declares that aggregated data will be shared.  \n",
       "12                                                                                                                       The DSS does not specificy what type of data will be shared.  \n",
       "13                                                                                              The DSS declares that data is available via requesing access from one of the authors.  \n",
       "14                                        The DSS declares that data is available via requesting access from a committee, group, or unit (rather than just the corresponding author).  \n",
       "15                                                                                                                     The DSS declares that data is available via a data repository.  \n",
       "16                                                                                            The name of the repository where data is or planned to be shared, as stated in the DSS.  \n",
       "17                                            The DSS declares that data is available via a repository and there actually information about the data on that repository (0=no 1=yes).  \n",
       "18                                                        The DSS declares that data is available on a repository and the data is actually available on that repository (0=no 1=yes).  \n",
       "19                                                                                                  The DSS declares that data is available through requesting access from a company.  \n",
       "20  The DSS declares that the data is openly or publicly available or available to those who have access to the related journal article (i.e. available as a supplementary material).  \n",
       "21                                                                                                                   It is unclear from the DSS how access to data can be requested.   \n",
       "22                                                                                               The DSS declares that data is availabe, but there is an embargo period (0=No, 1=Yes)  \n",
       "23                                                                                                                                        The length of any embargo period in months.  \n",
       "24                                                                                                                                              The embargo period is 1 year or less.  \n",
       "25                                                                                                                                       The embargo period is between 1 and 2 years.  \n",
       "26                                                                                                                                        The embargo period is greater than 2 years.  \n",
       "27                                                                                                          The DSS declares that data will be made available after product approval.  \n",
       "28                                                                                 The DSS declares that the data will be made available after either the embargo or product approval  \n",
       "29                                                                     The DSS declares that the data will be made available if the requester collaborates with the original authors.  \n",
       "30                                                                                                                                The DSS gives no reason why data can not be shared.  \n",
       "31                                                                                                       The DSS states that data sharing may be limited for privacy-related reasons.  \n",
       "32                                                                        The DSS states that data sharing may be limited because of the time/financial cost required to share data.   \n",
       "33                                                                                   The DSS states that data sharing may be limited because of the research/trial is still ongoing.   \n",
       "34                                                                                                    The DSS states that data sharing may be limited because of regulatory approval.  \n",
       "35                                                                The DSS states that data sharing may be limited because the data is proprietary (i.e. the property of the sponsor).  \n",
       "36                                                                                                            The DSS states that data will be shared only to trial co-investigators.  \n",
       "37                               The DSS states will not be shared but contains language implying data may be available for researchers interested in collaborating with the authors.  \n",
       "38                                                              The DSS states that data will not be shared but also contains language that implies it may be available upon request.  \n",
       "39                                                                                                                            Sources of research funding, as described in the paper.  \n",
       "40                                                                                       Sources of research funding by category (1=Industry, 2=NIH, 3=Non-industry non-NIH, 4=Mixed)  "
      ]
     },
     "metadata": {},
     "output_type": "display_data"
    }
   ],
   "source": [
    "# Read the Data dictionary describing each variable in the data file. \n",
    "\n",
    "DataDictionary_ClinicalTrialsDataSharing=pd.read_csv('DataDictionary_ClinicalTrialsDataSharing.csv')\n",
    "\n",
    "pd.set_option('max_colwidth', 800)\n",
    "display(DataDictionary_ClinicalTrialsDataSharing)"
   ]
  },
  {
   "cell_type": "markdown",
   "metadata": {},
   "source": [
    "# 1. Prevalence and Conditions of Declared Clinical Trial Data Sharing (see Table 1 in the manuscript)"
   ]
  },
  {
   "cell_type": "markdown",
   "metadata": {},
   "source": [
    "## 1.1. Declared data sharing"
   ]
  },
  {
   "cell_type": "code",
   "execution_count": 5,
   "metadata": {},
   "outputs": [
    {
     "name": "stdout",
     "output_type": "stream",
     "text": [
      "\u001b[1mTotal number of papers:\u001b[0m 487\n"
     ]
    }
   ],
   "source": [
    "N = ClinicalTrialsDataSharing['ID'].count()\n",
    "print(colored(\"Total number of papers:\", attrs=['bold']), N)"
   ]
  },
  {
   "cell_type": "code",
   "execution_count": 6,
   "metadata": {},
   "outputs": [
    {
     "name": "stdout",
     "output_type": "stream",
     "text": [
      "\u001b[1mNumber of papers that declared data sharing:\u001b[0m 334\n"
     ]
    }
   ],
   "source": [
    "print(colored(\"Number of papers that declared data sharing:\", attrs=['bold']), \\\n",
    "      ClinicalTrialsDataSharing['DeclaredDataSharing'].sum())"
   ]
  },
  {
   "cell_type": "code",
   "execution_count": 7,
   "metadata": {},
   "outputs": [
    {
     "name": "stdout",
     "output_type": "stream",
     "text": [
      "\u001b[1mPercentage of papers that declared data sharing:\u001b[0m 68.58316221765914\n"
     ]
    }
   ],
   "source": [
    "print(colored(\"Percentage of papers that declared data sharing:\", attrs=['bold']),\\\n",
    "       ClinicalTrialsDataSharing['DeclaredDataSharing'].mean()*100)"
   ]
  },
  {
   "cell_type": "code",
   "execution_count": 8,
   "metadata": {},
   "outputs": [
    {
     "name": "stdout",
     "output_type": "stream",
     "text": [
      "\u001b[1mBootstrapped 95% confidence intervals for the percentage of declared data sharing, 100,000 itterations:\u001b[0m \n",
      "Lower: 64.06570841889116 \n",
      "Upper: 72.48459958932239\n"
     ]
    }
   ],
   "source": [
    "# Compute the 95% confidence intervals for the percentage of declared data sharing \n",
    "# among the entire sample of 487 articles\n",
    "\n",
    "# For reproducibility\n",
    "np.random.seed(5)\n",
    "\n",
    "DeclaredDataSharing95CIs = bootstrap.ci(ClinicalTrialsDataSharing['DeclaredDataSharing'], scipy.mean, n_samples=100000)  \n",
    "print(colored(\"Bootstrapped 95% confidence intervals for the percentage of declared data sharing, 100,000 itterations:\",attrs=['bold']),\n",
    "       \"\\nLower:\", DeclaredDataSharing95CIs[0]*100, \"\\nUpper:\", DeclaredDataSharing95CIs[1]*100)"
   ]
  },
  {
   "cell_type": "code",
   "execution_count": 9,
   "metadata": {},
   "outputs": [
    {
     "name": "stdout",
     "output_type": "stream",
     "text": [
      "\u001b[1mNumber of papers declaring that data will NOT be shared:\u001b[0m 153\n"
     ]
    }
   ],
   "source": [
    "print(colored(\"Number of papers declaring that data will NOT be shared:\", attrs=['bold']), \\\n",
    "      ClinicalTrialsDataSharing['DeclaredDataSharing'].count()-ClinicalTrialsDataSharing['DeclaredDataSharing'].sum())"
   ]
  },
  {
   "cell_type": "code",
   "execution_count": 10,
   "metadata": {},
   "outputs": [
    {
     "name": "stdout",
     "output_type": "stream",
     "text": [
      "\u001b[1mPercentage of papers declaring that data will NOT be shared:\u001b[0m 31.416837782340863\n"
     ]
    }
   ],
   "source": [
    "print(colored(\"Percentage of papers declaring that data will NOT be shared:\", attrs=['bold']), \\\n",
    "      (ClinicalTrialsDataSharing['DeclaredDataSharing'].count()-ClinicalTrialsDataSharing['DeclaredDataSharing'].sum())/\\\n",
    "      ClinicalTrialsDataSharing['DeclaredDataSharing'].count()*100)"
   ]
  },
  {
   "cell_type": "code",
   "execution_count": 11,
   "metadata": {},
   "outputs": [
    {
     "name": "stdout",
     "output_type": "stream",
     "text": [
      "\u001b[1m\u001b[34m\n",
      "Data sharing by Funder Type\n",
      "\u001b[0m\n",
      "\u001b[1mTotal number of papers by Funder type:\n",
      "\u001b[0m FunderType\n",
      "1_Industry             186\n",
      "2_NonIndustryNIH        45\n",
      "3_NonIndustryNonNIH    173\n",
      "4_Mixed                 83\n",
      "Name: DeclaredDataSharing, dtype: int64\n",
      "\u001b[1m\n",
      "Number of papers that declared data sharing by Funder type:\n",
      "\u001b[0m FunderType\n",
      "1_Industry             114\n",
      "2_NonIndustryNIH        40\n",
      "3_NonIndustryNonNIH    127\n",
      "4_Mixed                 53\n",
      "Name: DeclaredDataSharing, dtype: int64\n",
      "\u001b[1m\n",
      "Percentage of papers that declared data sharing by Funder type:\n",
      "\u001b[0m FunderType\n",
      "1_Industry             61.290323\n",
      "2_NonIndustryNIH       88.888889\n",
      "3_NonIndustryNonNIH    73.410405\n",
      "4_Mixed                63.855422\n",
      "Name: DeclaredDataSharing, dtype: float64\n"
     ]
    }
   ],
   "source": [
    "# Data sharing by Funder Type\n",
    "\n",
    "print(colored(\"\\nData sharing by Funder Type\\n\",\"blue\",attrs=['bold']))\n",
    "\n",
    "print(colored(\"Total number of papers by Funder type:\\n\",attrs=['bold']), \\\n",
    "        ClinicalTrialsDataSharing.groupby(['FunderType'])['DeclaredDataSharing'].count())\n",
    "\n",
    "print(colored(\"\\nNumber of papers that declared data sharing by Funder type:\\n\",attrs=['bold']), \\\n",
    "        ClinicalTrialsDataSharing.groupby(['FunderType'])['DeclaredDataSharing'].sum())\n",
    "\n",
    "print(colored(\"\\nPercentage of papers that declared data sharing by Funder type:\\n\",attrs=['bold']), \\\n",
    "        ClinicalTrialsDataSharing.groupby(['FunderType'])['DeclaredDataSharing'].mean()*100)"
   ]
  },
  {
   "cell_type": "code",
   "execution_count": 12,
   "metadata": {},
   "outputs": [
    {
     "name": "stdout",
     "output_type": "stream",
     "text": [
      "\u001b[1m\u001b[34m\n",
      "Data witholding by Funder Type\n",
      "\u001b[0m\n",
      "\u001b[1mTotal number of papers by Funder type:\n",
      "\u001b[0m FunderType\n",
      "1_Industry             186\n",
      "2_NonIndustryNIH        45\n",
      "3_NonIndustryNonNIH    173\n",
      "4_Mixed                 83\n",
      "Name: DeclaredDataSharing, dtype: int64\n",
      "\u001b[1m\n",
      "Number of papers declaring that data will NOT be shared by Funder type:\n",
      "\u001b[0m FunderType\n",
      "1_Industry             72\n",
      "2_NonIndustryNIH        5\n",
      "3_NonIndustryNonNIH    46\n",
      "4_Mixed                30\n",
      "Name: DeclaredDataSharing, dtype: int64\n",
      "\u001b[1m\n",
      "Percentage of papers declaring that data will NOT be shared by Funder type:\n",
      "\u001b[0m FunderType\n",
      "1_Industry             38.709677\n",
      "2_NonIndustryNIH       11.111111\n",
      "3_NonIndustryNonNIH    26.589595\n",
      "4_Mixed                36.144578\n",
      "Name: DeclaredDataSharing, dtype: float64\n"
     ]
    }
   ],
   "source": [
    "# Data witholding by Funder Type\n",
    "\n",
    "print(colored(\"\\nData witholding by Funder Type\\n\",\"blue\",attrs=['bold']))\n",
    "\n",
    "print(colored(\"Total number of papers by Funder type:\\n\",attrs=['bold']), \\\n",
    "            ClinicalTrialsDataSharing.groupby(['FunderType'])['DeclaredDataSharing'].count())\n",
    "\n",
    "print(colored(\"\\nNumber of papers declaring that data will NOT be shared by Funder type:\\n\",attrs=['bold']), \\\n",
    "            ClinicalTrialsDataSharing.groupby(['FunderType'])['DeclaredDataSharing'].count()- \\\n",
    "             ClinicalTrialsDataSharing.groupby(['FunderType'])['DeclaredDataSharing'].sum())\n",
    "\n",
    "print(colored(\"\\nPercentage of papers declaring that data will NOT be shared by Funder type:\\n\",attrs=['bold']),\\\n",
    "            (ClinicalTrialsDataSharing.groupby(['FunderType'])['DeclaredDataSharing'].count()- \\\n",
    "            ClinicalTrialsDataSharing.groupby(['FunderType'])['DeclaredDataSharing'].sum())/ \\\n",
    "            ClinicalTrialsDataSharing.groupby(['FunderType'])['DeclaredDataSharing'].count()*100)"
   ]
  },
  {
   "cell_type": "markdown",
   "metadata": {},
   "source": [
    "## 1.2. Number and percentage of papers in our sample by Journal and Funder Type"
   ]
  },
  {
   "cell_type": "code",
   "execution_count": 13,
   "metadata": {},
   "outputs": [
    {
     "name": "stdout",
     "output_type": "stream",
     "text": [
      "\u001b[1m\n",
      "Number of papers by Journal and Funder type:\n",
      "\u001b[0m FunderType           Journal\n",
      "1_Industry           JAMA        21\n",
      "                     Lancet      57\n",
      "                     NEJM       108\n",
      "2_NonIndustryNIH     JAMA        18\n",
      "                     Lancet       7\n",
      "                     NEJM        20\n",
      "3_NonIndustryNonNIH  JAMA        50\n",
      "                     Lancet      64\n",
      "                     NEJM        59\n",
      "4_Mixed              JAMA        23\n",
      "                     Lancet      19\n",
      "                     NEJM        41\n",
      "Name: Journal, dtype: int64\n",
      "\u001b[1m\n",
      "Industry funding — Percentage of papers by\u001b[0m Journal\n",
      "JAMA      11.290323\n",
      "Lancet    30.645161\n",
      "NEJM      58.064516\n",
      "Name: ID, dtype: float64\n",
      "\u001b[1m\n",
      "Non-industry NIH funding — Percentage of papers by\u001b[0m Journal\n",
      "JAMA      40.000000\n",
      "Lancet    15.555556\n",
      "NEJM      44.444444\n",
      "Name: ID, dtype: float64\n",
      "\u001b[1m\n",
      "Non-industry non-NIH funding — Percentage of papers by\u001b[0m Journal\n",
      "JAMA      28.901734\n",
      "Lancet    36.994220\n",
      "NEJM      34.104046\n",
      "Name: ID, dtype: float64\n",
      "\u001b[1m\n",
      "Mixed funding — Percentage of papers by\u001b[0m Journal\n",
      "JAMA      27.710843\n",
      "Lancet    22.891566\n",
      "NEJM      49.397590\n",
      "Name: ID, dtype: float64\n",
      "\u001b[1m\n",
      "Number of papers by\u001b[0m Journal\n",
      "JAMA      112\n",
      "Lancet    147\n",
      "NEJM      228\n",
      "Name: ID, dtype: int64\n",
      "\u001b[1m\n",
      "Percentage of papers by\u001b[0m Journal\n",
      "JAMA      22.997947\n",
      "Lancet    30.184805\n",
      "NEJM      46.817248\n",
      "Name: ID, dtype: float64\n"
     ]
    }
   ],
   "source": [
    "print(colored(\"\\nNumber of papers by Journal and Funder type:\\n\",attrs=['bold']), \\\n",
    "            ClinicalTrialsDataSharing.groupby(['FunderType','Journal'])['Journal'].count())\n",
    "\n",
    "nPapers_Funder = ClinicalTrialsDataSharing.groupby(['FunderType'])[\"ID\"].count()\n",
    "nPapers_Journal = ClinicalTrialsDataSharing.groupby(['Journal'])[\"ID\"].count() \n",
    "\n",
    "nPapers_Journal_Funder = ClinicalTrialsDataSharing.groupby(['FunderType','Journal'])['ID'].count()\n",
    "\n",
    "nPapers_Journal_Funder['1_Industry']/nPapers_Funder['1_Industry']*100\n",
    "\n",
    "print(colored(\"\\nIndustry funding — Percentage of papers by\",attrs=['bold']), \\\n",
    "    nPapers_Journal_Funder['1_Industry']/nPapers_Funder['1_Industry']*100)\n",
    "\n",
    "print(colored(\"\\nNon-industry NIH funding — Percentage of papers by\",attrs=['bold']), \\\n",
    "    nPapers_Journal_Funder['2_NonIndustryNIH']/nPapers_Funder['2_NonIndustryNIH']*100)\n",
    "\n",
    "print(colored(\"\\nNon-industry non-NIH funding — Percentage of papers by\",attrs=['bold']), \\\n",
    "    nPapers_Journal_Funder['3_NonIndustryNonNIH']/nPapers_Funder['3_NonIndustryNonNIH']*100)\n",
    "    \n",
    "print(colored(\"\\nMixed funding — Percentage of papers by\",attrs=['bold']), \\\n",
    "    nPapers_Journal_Funder['4_Mixed']/nPapers_Funder['4_Mixed']*100)\n",
    "\n",
    "print(colored(\"\\nNumber of papers by\",attrs=['bold']), \\\n",
    "      ClinicalTrialsDataSharing.groupby(['Journal'])[\"ID\"].count())\n",
    "\n",
    "print(colored(\"\\nPercentage of papers by\",attrs=['bold']), nPapers_Journal/N*100)"
   ]
  },
  {
   "cell_type": "markdown",
   "metadata": {},
   "source": [
    "## 1.3. Declared data sharing by Journal and Funder type"
   ]
  },
  {
   "cell_type": "code",
   "execution_count": 14,
   "metadata": {},
   "outputs": [
    {
     "name": "stdout",
     "output_type": "stream",
     "text": [
      "\u001b[1m\u001b[34m\n",
      "Declared data sharing by Journal and Funder type\u001b[0m\n",
      "\u001b[1m\n",
      "Number of papers by Journal and Funder type:\n",
      "\u001b[0m Journal  FunderType         \n",
      "JAMA     1_Industry              8\n",
      "         2_NonIndustryNIH       17\n",
      "         3_NonIndustryNonNIH    28\n",
      "         4_Mixed                13\n",
      "Lancet   1_Industry             46\n",
      "         2_NonIndustryNIH        6\n",
      "         3_NonIndustryNonNIH    54\n",
      "         4_Mixed                13\n",
      "NEJM     1_Industry             60\n",
      "         2_NonIndustryNIH       17\n",
      "         3_NonIndustryNonNIH    45\n",
      "         4_Mixed                27\n",
      "Name: DeclaredDataSharing, dtype: int64\n",
      "\u001b[1m\n",
      "Total number of papers by Journal and Funder type:\n",
      "\u001b[0m Journal  FunderType         \n",
      "JAMA     1_Industry              21\n",
      "         2_NonIndustryNIH        18\n",
      "         3_NonIndustryNonNIH     50\n",
      "         4_Mixed                 23\n",
      "Lancet   1_Industry              57\n",
      "         2_NonIndustryNIH         7\n",
      "         3_NonIndustryNonNIH     64\n",
      "         4_Mixed                 19\n",
      "NEJM     1_Industry             108\n",
      "         2_NonIndustryNIH        20\n",
      "         3_NonIndustryNonNIH     59\n",
      "         4_Mixed                 41\n",
      "Name: DeclaredDataSharing, dtype: int64\n",
      "\u001b[1m\n",
      "Percentage of papers by Journal and Funder type:\n",
      "\u001b[0m Journal  FunderType         \n",
      "JAMA     1_Industry             38.095238\n",
      "         2_NonIndustryNIH       94.444444\n",
      "         3_NonIndustryNonNIH    56.000000\n",
      "         4_Mixed                56.521739\n",
      "Lancet   1_Industry             80.701754\n",
      "         2_NonIndustryNIH       85.714286\n",
      "         3_NonIndustryNonNIH    84.375000\n",
      "         4_Mixed                68.421053\n",
      "NEJM     1_Industry             55.555556\n",
      "         2_NonIndustryNIH       85.000000\n",
      "         3_NonIndustryNonNIH    76.271186\n",
      "         4_Mixed                65.853659\n",
      "Name: DeclaredDataSharing, dtype: float64\n",
      "\u001b[1m\n",
      "Number of papers by Journal:\n",
      "\u001b[0m Journal\n",
      "JAMA       66\n",
      "Lancet    119\n",
      "NEJM      149\n",
      "Name: DeclaredDataSharing, dtype: int64\n",
      "\u001b[1m\n",
      "Total number of papers by Journal:\n",
      "\u001b[0m Journal\n",
      "JAMA      112\n",
      "Lancet    147\n",
      "NEJM      228\n",
      "Name: DeclaredDataSharing, dtype: int64\n",
      "\u001b[1m\n",
      "Percentage of papers by Journal:\n",
      "\u001b[0m Journal\n",
      "JAMA      58.928571\n",
      "Lancet    80.952381\n",
      "NEJM      65.350877\n",
      "Name: DeclaredDataSharing, dtype: float64\n"
     ]
    }
   ],
   "source": [
    "print(colored(\"\\nDeclared data sharing by Journal and Funder type\",'blue',attrs=['bold']))\n",
    "print(colored(\"\\nNumber of papers by Journal and Funder type:\\n\",attrs=['bold']),\\\n",
    "      ClinicalTrialsDataSharing.groupby(['Journal','FunderType'])[\"DeclaredDataSharing\"].sum())\n",
    "print(colored(\"\\nTotal number of papers by Journal and Funder type:\\n\",attrs=['bold']),\\\n",
    "      ClinicalTrialsDataSharing.groupby(['Journal','FunderType'])[\"DeclaredDataSharing\"].count())\n",
    "print(colored(\"\\nPercentage of papers by Journal and Funder type:\\n\",attrs=['bold']), \\\n",
    "        (ClinicalTrialsDataSharing.groupby(['Journal','FunderType'])[\"DeclaredDataSharing\"].sum() / \\\n",
    "        ClinicalTrialsDataSharing.groupby(['Journal','FunderType'])[\"DeclaredDataSharing\"].count())*100)\n",
    "print(colored(\"\\nNumber of papers by Journal:\\n\",attrs=['bold']),\\\n",
    "      ClinicalTrialsDataSharing.groupby(['Journal'])[\"DeclaredDataSharing\"].sum())\n",
    "print(colored(\"\\nTotal number of papers by Journal:\\n\",attrs=['bold']),\\\n",
    "      ClinicalTrialsDataSharing.groupby(['Journal'])[\"DeclaredDataSharing\"].count())\n",
    "print(colored(\"\\nPercentage of papers by Journal:\\n\",attrs=['bold']), \\\n",
    "        ClinicalTrialsDataSharing.groupby(['Journal'])[\"DeclaredDataSharing\"].sum() / \\\n",
    "        ClinicalTrialsDataSharing.groupby(['Journal'])[\"DeclaredDataSharing\"].count()*100)"
   ]
  },
  {
   "cell_type": "markdown",
   "metadata": {},
   "source": [
    "## 1.4. Type of Data to be made available to others"
   ]
  },
  {
   "cell_type": "markdown",
   "metadata": {},
   "source": [
    "### The analysis in the following sections 1.4 to 1.6 is among data sharing articles"
   ]
  },
  {
   "cell_type": "code",
   "execution_count": 15,
   "metadata": {},
   "outputs": [],
   "source": [
    "# Select articles declaring that data will be made available to others\n",
    "\n",
    "ClinicalTrialsDataSharing_YES = ClinicalTrialsDataSharing[ClinicalTrialsDataSharing.DeclaredDataSharing == 1]\n",
    "N_Sharing = ClinicalTrialsDataSharing_YES['ID'].count()"
   ]
  },
  {
   "cell_type": "code",
   "execution_count": 16,
   "metadata": {},
   "outputs": [],
   "source": [
    "# This function summarizes quantities regarding types of clinical trial data articles declare to share\n",
    "\n",
    "def TypeData(ArticlesSharingData, TypeData, Title):\n",
    "    print(colored(\"\\nType of data: {0}\\n\".format(Title),'blue',attrs=['bold']))\n",
    "    print(colored(\"Number of papers by Funder type\\n\",attrs=['bold']), \\\n",
    "        ArticlesSharingData.groupby(['FunderType'])[TypeData].count())\n",
    "    print(colored(\"\\nPercentage of papers by Funder type\\n\",attrs=['bold']), \\\n",
    "        ArticlesSharingData.groupby(['FunderType'])[TypeData].count()/ \\\n",
    "        ArticlesSharingData.groupby(['FunderType'])['ID'].count()*100)\n",
    "    print(colored(\"\\nNumber of papers\\n\",attrs=['bold']), \\\n",
    "        ArticlesSharingData.groupby([TypeData])['ID'].count())\n",
    "    print(colored(\"\\nPercentage of papers\\n\",attrs=['bold']), \\\n",
    "        ArticlesSharingData.groupby([TypeData])['ID'].count()/N_Sharing*100)"
   ]
  },
  {
   "cell_type": "code",
   "execution_count": 17,
   "metadata": {},
   "outputs": [
    {
     "name": "stdout",
     "output_type": "stream",
     "text": [
      "\u001b[1m\u001b[34m\n",
      "Type of data: Deidentified Individual Participant data\n",
      "\u001b[0m\n",
      "\u001b[1mNumber of papers by Funder type\n",
      "\u001b[0m FunderType\n",
      "1_Industry             83\n",
      "2_NonIndustryNIH       33\n",
      "3_NonIndustryNonNIH    95\n",
      "4_Mixed                44\n",
      "Name: Individual, dtype: int64\n",
      "\u001b[1m\n",
      "Percentage of papers by Funder type\n",
      "\u001b[0m FunderType\n",
      "1_Industry             72.807018\n",
      "2_NonIndustryNIH       82.500000\n",
      "3_NonIndustryNonNIH    74.803150\n",
      "4_Mixed                83.018868\n",
      "dtype: float64\n",
      "\u001b[1m\n",
      "Number of papers\n",
      "\u001b[0m Individual\n",
      "1.0    255\n",
      "Name: ID, dtype: int64\n",
      "\u001b[1m\n",
      "Percentage of papers\n",
      "\u001b[0m Individual\n",
      "1.0    76.347305\n",
      "Name: ID, dtype: float64\n"
     ]
    }
   ],
   "source": [
    "TypeData(ClinicalTrialsDataSharing_YES, \"Individual\", \"Deidentified Individual Participant data\")"
   ]
  },
  {
   "cell_type": "code",
   "execution_count": 18,
   "metadata": {},
   "outputs": [
    {
     "name": "stdout",
     "output_type": "stream",
     "text": [
      "\u001b[1m\u001b[34m\n",
      "Type of data: Aggregate data only\n",
      "\u001b[0m\n",
      "\u001b[1mNumber of papers by Funder type\n",
      "\u001b[0m FunderType\n",
      "1_Industry             2\n",
      "2_NonIndustryNIH       0\n",
      "3_NonIndustryNonNIH    1\n",
      "4_Mixed                0\n",
      "Name: Aggregate, dtype: int64\n",
      "\u001b[1m\n",
      "Percentage of papers by Funder type\n",
      "\u001b[0m FunderType\n",
      "1_Industry             1.754386\n",
      "2_NonIndustryNIH       0.000000\n",
      "3_NonIndustryNonNIH    0.787402\n",
      "4_Mixed                0.000000\n",
      "dtype: float64\n",
      "\u001b[1m\n",
      "Number of papers\n",
      "\u001b[0m Aggregate\n",
      "1.0    3\n",
      "Name: ID, dtype: int64\n",
      "\u001b[1m\n",
      "Percentage of papers\n",
      "\u001b[0m Aggregate\n",
      "1.0    0.898204\n",
      "Name: ID, dtype: float64\n"
     ]
    }
   ],
   "source": [
    "TypeData(ClinicalTrialsDataSharing_YES, \"Aggregate\", \"Aggregate data only\")"
   ]
  },
  {
   "cell_type": "code",
   "execution_count": 19,
   "metadata": {},
   "outputs": [
    {
     "name": "stdout",
     "output_type": "stream",
     "text": [
      "\u001b[1m\u001b[34m\n",
      "Type of data: Unspecified/ partial data\n",
      "\u001b[0m\n",
      "\u001b[1mNumber of papers by Funder type\n",
      "\u001b[0m FunderType\n",
      "1_Industry             29\n",
      "2_NonIndustryNIH        7\n",
      "3_NonIndustryNonNIH    31\n",
      "4_Mixed                 9\n",
      "Name: Unspeficied, dtype: int64\n",
      "\u001b[1m\n",
      "Percentage of papers by Funder type\n",
      "\u001b[0m FunderType\n",
      "1_Industry             25.438596\n",
      "2_NonIndustryNIH       17.500000\n",
      "3_NonIndustryNonNIH    24.409449\n",
      "4_Mixed                16.981132\n",
      "dtype: float64\n",
      "\u001b[1m\n",
      "Number of papers\n",
      "\u001b[0m Unspeficied\n",
      "1.0    76\n",
      "Name: ID, dtype: int64\n",
      "\u001b[1m\n",
      "Percentage of papers\n",
      "\u001b[0m Unspeficied\n",
      "1.0    22.754491\n",
      "Name: ID, dtype: float64\n"
     ]
    }
   ],
   "source": [
    "TypeData(ClinicalTrialsDataSharing_YES, \"Unspeficied\", \"Unspecified/ partial data\")"
   ]
  },
  {
   "cell_type": "markdown",
   "metadata": {},
   "source": [
    "## 1.5. Access to Data "
   ]
  },
  {
   "cell_type": "code",
   "execution_count": 20,
   "metadata": {},
   "outputs": [],
   "source": [
    "# This function summarizes quantities regarding ways in which \n",
    "# papers propose to provide access to clinical trial data. \n",
    "\n",
    "def AccessToData(ArticlesSharingData, TypeAccess, Title):\n",
    "    print(colored(\"\\nAccess to data: {0}\\n\".format(Title),'blue',attrs=['bold']))\n",
    "    print(colored(\"Number of papers by Funder type\\n\",attrs=['bold']), \\\n",
    "        ArticlesSharingData.groupby(['FunderType'])[TypeAccess].count())\n",
    "    print(colored(\"\\nPercentage of papers by Funder type\\n\",attrs=['bold']), \\\n",
    "        ArticlesSharingData.groupby(['FunderType'])[TypeAccess].count()/ \\\n",
    "        ArticlesSharingData.groupby(['FunderType'])['ID'].count()*100)\n",
    "    print(colored(\"\\nNumber of papers\\n\",attrs=['bold']), \\\n",
    "        ArticlesSharingData.groupby([TypeAccess])['ID'].count())\n",
    "    print(colored(\"\\nPercentage of papers\\n\",attrs=['bold']), \\\n",
    "        ArticlesSharingData.groupby([TypeAccess])['ID'].count()/N_Sharing*100)"
   ]
  },
  {
   "cell_type": "code",
   "execution_count": 21,
   "metadata": {
    "scrolled": false
   },
   "outputs": [
    {
     "name": "stdout",
     "output_type": "stream",
     "text": [
      "\u001b[1m\u001b[34m\n",
      "Access to data: Request to Author\n",
      "\u001b[0m\n",
      "\u001b[1mNumber of papers by Funder type\n",
      "\u001b[0m FunderType\n",
      "1_Industry              9\n",
      "2_NonIndustryNIH       15\n",
      "3_NonIndustryNonNIH    96\n",
      "4_Mixed                23\n",
      "Name: RqstAuthors, dtype: int64\n",
      "\u001b[1m\n",
      "Percentage of papers by Funder type\n",
      "\u001b[0m FunderType\n",
      "1_Industry              7.894737\n",
      "2_NonIndustryNIH       37.500000\n",
      "3_NonIndustryNonNIH    75.590551\n",
      "4_Mixed                43.396226\n",
      "dtype: float64\n",
      "\u001b[1m\n",
      "Number of papers\n",
      "\u001b[0m RqstAuthors\n",
      "1.0    143\n",
      "Name: ID, dtype: int64\n",
      "\u001b[1m\n",
      "Percentage of papers\n",
      "\u001b[0m RqstAuthors\n",
      "1.0    42.814371\n",
      "Name: ID, dtype: float64\n"
     ]
    }
   ],
   "source": [
    "# Request to Author\n",
    "\n",
    "AccessToData(ClinicalTrialsDataSharing_YES,\"RqstAuthors\", \"Request to Author\")"
   ]
  },
  {
   "cell_type": "code",
   "execution_count": 22,
   "metadata": {},
   "outputs": [
    {
     "name": "stdout",
     "output_type": "stream",
     "text": [
      "\u001b[1m\u001b[34m\n",
      "Access to data: Request to committee, group, unit\n",
      "\u001b[0m\n",
      "\u001b[1mNumber of papers by Funder type\n",
      "\u001b[0m FunderType\n",
      "1_Industry             15\n",
      "2_NonIndustryNIH        3\n",
      "3_NonIndustryNonNIH    36\n",
      "4_Mixed                13\n",
      "Name: RqstCommGroupUnit, dtype: int64\n",
      "\u001b[1m\n",
      "Percentage of papers by Funder type\n",
      "\u001b[0m FunderType\n",
      "1_Industry             13.157895\n",
      "2_NonIndustryNIH        7.500000\n",
      "3_NonIndustryNonNIH    28.346457\n",
      "4_Mixed                24.528302\n",
      "dtype: float64\n",
      "\u001b[1m\n",
      "Number of papers\n",
      "\u001b[0m RqstCommGroupUnit\n",
      "1.0    67\n",
      "Name: ID, dtype: int64\n",
      "\u001b[1m\n",
      "Percentage of papers\n",
      "\u001b[0m RqstCommGroupUnit\n",
      "1.0    20.05988\n",
      "Name: ID, dtype: float64\n"
     ]
    }
   ],
   "source": [
    "# Request to committee, group, unit\n",
    "\n",
    "AccessToData(ClinicalTrialsDataSharing_YES,\"RqstCommGroupUnit\", \"Request to committee, group, unit\")"
   ]
  },
  {
   "cell_type": "code",
   "execution_count": 23,
   "metadata": {},
   "outputs": [
    {
     "name": "stdout",
     "output_type": "stream",
     "text": [
      "\u001b[1m\u001b[34m\n",
      "Access to data: Request to repository\n",
      "\u001b[0m\n",
      "\u001b[1mNumber of papers by Funder type\n",
      "\u001b[0m FunderType\n",
      "1_Industry             46\n",
      "2_NonIndustryNIH       22\n",
      "3_NonIndustryNonNIH     5\n",
      "4_Mixed                16\n",
      "Name: RqstRepository, dtype: int64\n",
      "\u001b[1m\n",
      "Percentage of papers by Funder type\n",
      "\u001b[0m FunderType\n",
      "1_Industry             40.350877\n",
      "2_NonIndustryNIH       55.000000\n",
      "3_NonIndustryNonNIH     3.937008\n",
      "4_Mixed                30.188679\n",
      "dtype: float64\n",
      "\u001b[1m\n",
      "Number of papers\n",
      "\u001b[0m RqstRepository\n",
      "1.0    89\n",
      "Name: ID, dtype: int64\n",
      "\u001b[1m\n",
      "Percentage of papers\n",
      "\u001b[0m RqstRepository\n",
      "1.0    26.646707\n",
      "Name: ID, dtype: float64\n"
     ]
    }
   ],
   "source": [
    "# Request to repository\n",
    "\n",
    "AccessToData(ClinicalTrialsDataSharing_YES,\"RqstRepository\", \"Request to repository\")"
   ]
  },
  {
   "cell_type": "code",
   "execution_count": 24,
   "metadata": {},
   "outputs": [
    {
     "name": "stdout",
     "output_type": "stream",
     "text": [
      "\u001b[1m\u001b[34m\n",
      "Access to data: Request to company\n",
      "\u001b[0m\n",
      "\u001b[1mNumber of papers by Funder type\n",
      "\u001b[0m FunderType\n",
      "1_Industry             72\n",
      "2_NonIndustryNIH        0\n",
      "3_NonIndustryNonNIH     0\n",
      "4_Mixed                 6\n",
      "Name: RqstCompany, dtype: int64\n",
      "\u001b[1m\n",
      "Percentage of papers by Funder type\n",
      "\u001b[0m FunderType\n",
      "1_Industry             63.157895\n",
      "2_NonIndustryNIH        0.000000\n",
      "3_NonIndustryNonNIH     0.000000\n",
      "4_Mixed                11.320755\n",
      "dtype: float64\n",
      "\u001b[1m\n",
      "Number of papers\n",
      "\u001b[0m RqstCompany\n",
      "1.0    78\n",
      "Name: ID, dtype: int64\n",
      "\u001b[1m\n",
      "Percentage of papers\n",
      "\u001b[0m RqstCompany\n",
      "1.0    23.353293\n",
      "Name: ID, dtype: float64\n"
     ]
    }
   ],
   "source": [
    "# Request to company\n",
    "\n",
    "AccessToData(ClinicalTrialsDataSharing_YES,\"RqstCompany\", \"Request to company\")"
   ]
  },
  {
   "cell_type": "code",
   "execution_count": 25,
   "metadata": {},
   "outputs": [
    {
     "name": "stdout",
     "output_type": "stream",
     "text": [
      "\u001b[1m\u001b[34m\n",
      "Access to data: Access is unspecified\n",
      "\u001b[0m\n",
      "\u001b[1mNumber of papers by Funder type\n",
      "\u001b[0m FunderType\n",
      "1_Industry             5\n",
      "2_NonIndustryNIH       2\n",
      "3_NonIndustryNonNIH    5\n",
      "4_Mixed                3\n",
      "Name: AccessUnspecified, dtype: int64\n",
      "\u001b[1m\n",
      "Percentage of papers by Funder type\n",
      "\u001b[0m FunderType\n",
      "1_Industry             4.385965\n",
      "2_NonIndustryNIH       5.000000\n",
      "3_NonIndustryNonNIH    3.937008\n",
      "4_Mixed                5.660377\n",
      "dtype: float64\n",
      "\u001b[1m\n",
      "Number of papers\n",
      "\u001b[0m AccessUnspecified\n",
      "1.0    15\n",
      "Name: ID, dtype: int64\n",
      "\u001b[1m\n",
      "Percentage of papers\n",
      "\u001b[0m AccessUnspecified\n",
      "1.0    4.491018\n",
      "Name: ID, dtype: float64\n"
     ]
    }
   ],
   "source": [
    "# Access is unspecified\n",
    "\n",
    "AccessToData(ClinicalTrialsDataSharing_YES,\"AccessUnspecified\", \"Access is unspecified\")"
   ]
  },
  {
   "cell_type": "code",
   "execution_count": 26,
   "metadata": {},
   "outputs": [
    {
     "name": "stdout",
     "output_type": "stream",
     "text": [
      "\u001b[1m\u001b[34m\n",
      "Access to data: Data is available to others to use\n",
      "\u001b[0m\n",
      "\u001b[1mNumber of papers by Funder type\n",
      "\u001b[0m FunderType\n",
      "1_Industry             0\n",
      "2_NonIndustryNIH       0\n",
      "3_NonIndustryNonNIH    2\n",
      "4_Mixed                0\n",
      "Name: DataAvailableToOthers, dtype: int64\n",
      "\u001b[1m\n",
      "Percentage of papers by Funder type\n",
      "\u001b[0m FunderType\n",
      "1_Industry             0.000000\n",
      "2_NonIndustryNIH       0.000000\n",
      "3_NonIndustryNonNIH    1.574803\n",
      "4_Mixed                0.000000\n",
      "dtype: float64\n",
      "\u001b[1m\n",
      "Number of papers\n",
      "\u001b[0m DataAvailableToOthers\n",
      "1.0    2\n",
      "Name: ID, dtype: int64\n",
      "\u001b[1m\n",
      "Percentage of papers\n",
      "\u001b[0m DataAvailableToOthers\n",
      "1.0    0.598802\n",
      "Name: ID, dtype: float64\n"
     ]
    }
   ],
   "source": [
    "# Data is available to others to use\n",
    "\n",
    "AccessToData(ClinicalTrialsDataSharing_YES,\"DataAvailableToOthers\", \"Data is available to others to use\")"
   ]
  },
  {
   "cell_type": "markdown",
   "metadata": {},
   "source": [
    "## 1.6. Conditions for data access"
   ]
  },
  {
   "cell_type": "code",
   "execution_count": 27,
   "metadata": {},
   "outputs": [],
   "source": [
    "# This function summarizes quantities regarding conditions for data sharing among papers declaring to share data.\n",
    "\n",
    "def ConditionsForDataAccess(ArticlesSharingData, ConditionDataAccess, Title):\n",
    "    print(colored(\"\\nConditions for data access: {0}\\n\".format(Title),'blue',attrs=['bold']))\n",
    "    print(colored(\"Number of papers by Funder type\\n\",attrs=['bold']), \\\n",
    "        ArticlesSharingData.groupby(['FunderType'])[ConditionDataAccess].count())\n",
    "    print(colored(\"\\nPercentage of papers by Funder type\\n\",attrs=['bold']), \\\n",
    "        ArticlesSharingData.groupby(['FunderType'])[ConditionDataAccess].count()/ \\\n",
    "        ArticlesSharingData.groupby(['FunderType'])['ID'].count()*100)\n",
    "    print(colored(\"\\nNumber of papers\\n\",attrs=['bold']), \\\n",
    "        ArticlesSharingData.groupby([ConditionDataAccess])['ID'].count())\n",
    "    print(colored(\"\\nPercentage of papers\\n\",attrs=['bold']), \\\n",
    "        ArticlesSharingData.groupby([ConditionDataAccess])['ID'].count()/N_Sharing*100)"
   ]
  },
  {
   "cell_type": "code",
   "execution_count": 28,
   "metadata": {},
   "outputs": [
    {
     "name": "stdout",
     "output_type": "stream",
     "text": [
      "\u001b[1m\u001b[34m\n",
      "Conditions for data access: Embargo\n",
      "\u001b[0m\n",
      "\u001b[1mNumber of papers by Funder type\n",
      "\u001b[0m FunderType\n",
      "1_Industry             49\n",
      "2_NonIndustryNIH       22\n",
      "3_NonIndustryNonNIH    57\n",
      "4_Mixed                30\n",
      "Name: Embargo, dtype: int64\n",
      "\u001b[1m\n",
      "Percentage of papers by Funder type\n",
      "\u001b[0m FunderType\n",
      "1_Industry             42.982456\n",
      "2_NonIndustryNIH       55.000000\n",
      "3_NonIndustryNonNIH    44.881890\n",
      "4_Mixed                56.603774\n",
      "dtype: float64\n",
      "\u001b[1m\n",
      "Number of papers\n",
      "\u001b[0m Embargo\n",
      "1.0    158\n",
      "Name: ID, dtype: int64\n",
      "\u001b[1m\n",
      "Percentage of papers\n",
      "\u001b[0m Embargo\n",
      "1.0    47.305389\n",
      "Name: ID, dtype: float64\n"
     ]
    }
   ],
   "source": [
    "# Embargo period\n",
    "\n",
    "ConditionsForDataAccess(ClinicalTrialsDataSharing_YES, \"Embargo\", \"Embargo\")"
   ]
  },
  {
   "cell_type": "code",
   "execution_count": 29,
   "metadata": {},
   "outputs": [
    {
     "name": "stdout",
     "output_type": "stream",
     "text": [
      "\u001b[1m\u001b[34m\n",
      "Conditions for data access: Embargo period up to 1 year\n",
      "\u001b[0m\n",
      "\u001b[1mNumber of papers by Funder type\n",
      "\u001b[0m FunderType\n",
      "1_Industry             20\n",
      "2_NonIndustryNIH       13\n",
      "3_NonIndustryNonNIH    30\n",
      "4_Mixed                18\n",
      "Name: EmbargoUpTo1Y, dtype: int64\n",
      "\u001b[1m\n",
      "Percentage of papers by Funder type\n",
      "\u001b[0m FunderType\n",
      "1_Industry             17.543860\n",
      "2_NonIndustryNIH       32.500000\n",
      "3_NonIndustryNonNIH    23.622047\n",
      "4_Mixed                33.962264\n",
      "dtype: float64\n",
      "\u001b[1m\n",
      "Number of papers\n",
      "\u001b[0m EmbargoUpTo1Y\n",
      "1.0    81\n",
      "Name: ID, dtype: int64\n",
      "\u001b[1m\n",
      "Percentage of papers\n",
      "\u001b[0m EmbargoUpTo1Y\n",
      "1.0    24.251497\n",
      "Name: ID, dtype: float64\n"
     ]
    }
   ],
   "source": [
    "# Embargo period up to 1 year\n",
    "\n",
    "ConditionsForDataAccess(ClinicalTrialsDataSharing_YES, \"EmbargoUpTo1Y\", \"Embargo period up to 1 year\")"
   ]
  },
  {
   "cell_type": "code",
   "execution_count": 30,
   "metadata": {},
   "outputs": [
    {
     "name": "stdout",
     "output_type": "stream",
     "text": [
      "\u001b[1m\u001b[34m\n",
      "Conditions for data access: Embargo period above 1 year and up to 2 years\n",
      "\u001b[0m\n",
      "\u001b[1mNumber of papers by Funder type\n",
      "\u001b[0m FunderType\n",
      "1_Industry             13\n",
      "2_NonIndustryNIH        7\n",
      "3_NonIndustryNonNIH    13\n",
      "4_Mixed                 6\n",
      "Name: EmbargoAbove1Yto2Y, dtype: int64\n",
      "\u001b[1m\n",
      "Percentage of papers by Funder type\n",
      "\u001b[0m FunderType\n",
      "1_Industry             11.403509\n",
      "2_NonIndustryNIH       17.500000\n",
      "3_NonIndustryNonNIH    10.236220\n",
      "4_Mixed                11.320755\n",
      "dtype: float64\n",
      "\u001b[1m\n",
      "Number of papers\n",
      "\u001b[0m EmbargoAbove1Yto2Y\n",
      "1.0    39\n",
      "Name: ID, dtype: int64\n",
      "\u001b[1m\n",
      "Percentage of papers\n",
      "\u001b[0m EmbargoAbove1Yto2Y\n",
      "1.0    11.676647\n",
      "Name: ID, dtype: float64\n"
     ]
    }
   ],
   "source": [
    "# Embargo period above 1 year and up to 2 years\n",
    "\n",
    "ConditionsForDataAccess(ClinicalTrialsDataSharing_YES, \"EmbargoAbove1Yto2Y\", \"Embargo period above 1 year and up to 2 years\")"
   ]
  },
  {
   "cell_type": "code",
   "execution_count": 31,
   "metadata": {},
   "outputs": [
    {
     "name": "stdout",
     "output_type": "stream",
     "text": [
      "\u001b[1m\u001b[34m\n",
      "Conditions for data access: Embargo period above 2 years\n",
      "\u001b[0m\n",
      "\u001b[1mNumber of papers by Funder type\n",
      "\u001b[0m FunderType\n",
      "1_Industry             4\n",
      "2_NonIndustryNIH       2\n",
      "3_NonIndustryNonNIH    4\n",
      "4_Mixed                5\n",
      "Name: EmbargoAbove2Y, dtype: int64\n",
      "\u001b[1m\n",
      "Percentage of papers by Funder type\n",
      "\u001b[0m FunderType\n",
      "1_Industry             3.508772\n",
      "2_NonIndustryNIH       5.000000\n",
      "3_NonIndustryNonNIH    3.149606\n",
      "4_Mixed                9.433962\n",
      "dtype: float64\n",
      "\u001b[1m\n",
      "Number of papers\n",
      "\u001b[0m EmbargoAbove2Y\n",
      "1.0    15\n",
      "Name: ID, dtype: int64\n",
      "\u001b[1m\n",
      "Percentage of papers\n",
      "\u001b[0m EmbargoAbove2Y\n",
      "1.0    4.491018\n",
      "Name: ID, dtype: float64\n"
     ]
    }
   ],
   "source": [
    "# Embargo period above 2 years\n",
    "\n",
    "ConditionsForDataAccess(ClinicalTrialsDataSharing_YES, \"EmbargoAbove2Y\", \"Embargo period above 2 years\")"
   ]
  },
  {
   "cell_type": "code",
   "execution_count": 32,
   "metadata": {},
   "outputs": [
    {
     "name": "stdout",
     "output_type": "stream",
     "text": [
      "\u001b[1m\u001b[34m\n",
      "Conditions for data access: Product approval\n",
      "\u001b[0m\n",
      "\u001b[1mNumber of papers by Funder type\n",
      "\u001b[0m FunderType\n",
      "1_Industry             36\n",
      "2_NonIndustryNIH        0\n",
      "3_NonIndustryNonNIH     0\n",
      "4_Mixed                 1\n",
      "Name: ProductApproval, dtype: int64\n",
      "\u001b[1m\n",
      "Percentage of papers by Funder type\n",
      "\u001b[0m FunderType\n",
      "1_Industry             31.578947\n",
      "2_NonIndustryNIH        0.000000\n",
      "3_NonIndustryNonNIH     0.000000\n",
      "4_Mixed                 1.886792\n",
      "dtype: float64\n",
      "\u001b[1m\n",
      "Number of papers\n",
      "\u001b[0m ProductApproval\n",
      "1.0    37\n",
      "Name: ID, dtype: int64\n",
      "\u001b[1m\n",
      "Percentage of papers\n",
      "\u001b[0m ProductApproval\n",
      "1.0    11.077844\n",
      "Name: ID, dtype: float64\n"
     ]
    }
   ],
   "source": [
    "# Product approval\n",
    "\n",
    "ConditionsForDataAccess(ClinicalTrialsDataSharing_YES, \"ProductApproval\", \"Product approval\")"
   ]
  },
  {
   "cell_type": "code",
   "execution_count": 33,
   "metadata": {},
   "outputs": [
    {
     "name": "stdout",
     "output_type": "stream",
     "text": [
      "\u001b[1m\u001b[34m\n",
      "Conditions for data access: Collaboration\n",
      "\u001b[0m\n",
      "\u001b[1mNumber of papers by Funder type\n",
      "\u001b[0m FunderType\n",
      "1_Industry             0\n",
      "2_NonIndustryNIH       2\n",
      "3_NonIndustryNonNIH    6\n",
      "4_Mixed                1\n",
      "Name: Collaboration, dtype: int64\n",
      "\u001b[1m\n",
      "Percentage of papers by Funder type\n",
      "\u001b[0m FunderType\n",
      "1_Industry             0.000000\n",
      "2_NonIndustryNIH       5.000000\n",
      "3_NonIndustryNonNIH    4.724409\n",
      "4_Mixed                1.886792\n",
      "dtype: float64\n",
      "\u001b[1m\n",
      "Number of papers\n",
      "\u001b[0m Collaboration\n",
      "1.0    9\n",
      "Name: ID, dtype: int64\n",
      "\u001b[1m\n",
      "Percentage of papers\n",
      "\u001b[0m Collaboration\n",
      "1.0    2.694611\n",
      "Name: ID, dtype: float64\n"
     ]
    }
   ],
   "source": [
    "# Collaboration\n",
    "\n",
    "ConditionsForDataAccess(ClinicalTrialsDataSharing_YES, \"Collaboration\", \"Collaboration\")"
   ]
  },
  {
   "cell_type": "markdown",
   "metadata": {},
   "source": [
    "## 1.7. Reasons for why data not available \n",
    "### The analysis in this section is among articles declaring that data will NOT be made available"
   ]
  },
  {
   "cell_type": "code",
   "execution_count": 34,
   "metadata": {},
   "outputs": [],
   "source": [
    "# Select articles that declared that data will NOT be made available to others\n",
    "\n",
    "ClinicalTrialsDataSharing_NO = ClinicalTrialsDataSharing[ClinicalTrialsDataSharing.DeclaredDataSharing == 0]\n",
    "N_NotSharing = ClinicalTrialsDataSharing_NO['ID'].count()"
   ]
  },
  {
   "cell_type": "code",
   "execution_count": 35,
   "metadata": {},
   "outputs": [],
   "source": [
    "# This function summarizes reasons for why data will NOT be made available among non-sharing articles.\n",
    "\n",
    "def ReasonsForNotSharingData(ArticlesNotSharingData, Reason, Title):\n",
    "    print(colored(\"\\nReasons for why data not available: {0}\\n\".format(Title),'blue',attrs=['bold']))\n",
    "    print(colored(\"Number of papers by Funder type\\n\",attrs=['bold']), \\\n",
    "        ArticlesNotSharingData.groupby(['FunderType'])[Reason].count())\n",
    "    print(colored(\"\\nPercentage of papers by Funder type\\n\",attrs=['bold']), \\\n",
    "        ArticlesNotSharingData.groupby(['FunderType'])[Reason].count()/ \\\n",
    "        ArticlesNotSharingData.groupby(['FunderType'])['ID'].count()*100)\n",
    "    print(colored(\"\\nNumber of papers\\n\",attrs=['bold']), \\\n",
    "        ArticlesNotSharingData.groupby([Reason])['ID'].count())\n",
    "    print(colored(\"\\nPercentage of papers\\n\",attrs=['bold']), \\\n",
    "        ArticlesNotSharingData.groupby([Reason])['ID'].count()/N_NotSharing*100)"
   ]
  },
  {
   "cell_type": "code",
   "execution_count": 36,
   "metadata": {},
   "outputs": [
    {
     "name": "stdout",
     "output_type": "stream",
     "text": [
      "\u001b[1m\u001b[34m\n",
      "Reasons for why data not available: No reason provided\n",
      "\u001b[0m\n",
      "\u001b[1mNumber of papers by Funder type\n",
      "\u001b[0m FunderType\n",
      "1_Industry             40\n",
      "2_NonIndustryNIH        2\n",
      "3_NonIndustryNonNIH    26\n",
      "4_Mixed                15\n",
      "Name: NoReason, dtype: int64\n",
      "\u001b[1m\n",
      "Percentage of papers by Funder type\n",
      "\u001b[0m FunderType\n",
      "1_Industry             55.555556\n",
      "2_NonIndustryNIH       40.000000\n",
      "3_NonIndustryNonNIH    56.521739\n",
      "4_Mixed                50.000000\n",
      "dtype: float64\n",
      "\u001b[1m\n",
      "Number of papers\n",
      "\u001b[0m NoReason\n",
      "1.0    83\n",
      "Name: ID, dtype: int64\n",
      "\u001b[1m\n",
      "Percentage of papers\n",
      "\u001b[0m NoReason\n",
      "1.0    54.248366\n",
      "Name: ID, dtype: float64\n"
     ]
    }
   ],
   "source": [
    "# No reason provided \n",
    "\n",
    "ReasonsForNotSharingData(ClinicalTrialsDataSharing_NO, \"NoReason\", \"No reason provided\")"
   ]
  },
  {
   "cell_type": "code",
   "execution_count": 37,
   "metadata": {},
   "outputs": [
    {
     "name": "stdout",
     "output_type": "stream",
     "text": [
      "\u001b[1m\u001b[34m\n",
      "Reasons for why data not available: Data privacy\n",
      "\u001b[0m\n",
      "\u001b[1mNumber of papers by Funder type\n",
      "\u001b[0m FunderType\n",
      "1_Industry             3\n",
      "2_NonIndustryNIH       1\n",
      "3_NonIndustryNonNIH    9\n",
      "4_Mixed                2\n",
      "Name: DataPrivacy, dtype: int64\n",
      "\u001b[1m\n",
      "Percentage of papers by Funder type\n",
      "\u001b[0m FunderType\n",
      "1_Industry              4.166667\n",
      "2_NonIndustryNIH       20.000000\n",
      "3_NonIndustryNonNIH    19.565217\n",
      "4_Mixed                 6.666667\n",
      "dtype: float64\n",
      "\u001b[1m\n",
      "Number of papers\n",
      "\u001b[0m DataPrivacy\n",
      "1.0    15\n",
      "Name: ID, dtype: int64\n",
      "\u001b[1m\n",
      "Percentage of papers\n",
      "\u001b[0m DataPrivacy\n",
      "1.0    9.803922\n",
      "Name: ID, dtype: float64\n"
     ]
    }
   ],
   "source": [
    "# Data privacy\n",
    "\n",
    "ReasonsForNotSharingData(ClinicalTrialsDataSharing_NO, \"DataPrivacy\", \"Data privacy\")"
   ]
  },
  {
   "cell_type": "code",
   "execution_count": 38,
   "metadata": {},
   "outputs": [
    {
     "name": "stdout",
     "output_type": "stream",
     "text": [
      "\u001b[1m\u001b[34m\n",
      "Reasons for why data not available: Time and Cost\n",
      "\u001b[0m\n",
      "\u001b[1mNumber of papers by Funder type\n",
      "\u001b[0m FunderType\n",
      "1_Industry             0\n",
      "2_NonIndustryNIH       0\n",
      "3_NonIndustryNonNIH    2\n",
      "4_Mixed                0\n",
      "Name: Time/Cost, dtype: int64\n",
      "\u001b[1m\n",
      "Percentage of papers by Funder type\n",
      "\u001b[0m FunderType\n",
      "1_Industry             0.000000\n",
      "2_NonIndustryNIH       0.000000\n",
      "3_NonIndustryNonNIH    4.347826\n",
      "4_Mixed                0.000000\n",
      "dtype: float64\n",
      "\u001b[1m\n",
      "Number of papers\n",
      "\u001b[0m Time/Cost\n",
      "1.0    2\n",
      "Name: ID, dtype: int64\n",
      "\u001b[1m\n",
      "Percentage of papers\n",
      "\u001b[0m Time/Cost\n",
      "1.0    1.30719\n",
      "Name: ID, dtype: float64\n"
     ]
    }
   ],
   "source": [
    "# Time and Cost\n",
    "\n",
    "ReasonsForNotSharingData(ClinicalTrialsDataSharing_NO, \"Time/Cost\", \"Time and Cost\")"
   ]
  },
  {
   "cell_type": "code",
   "execution_count": 39,
   "metadata": {},
   "outputs": [
    {
     "name": "stdout",
     "output_type": "stream",
     "text": [
      "\u001b[1m\u001b[34m\n",
      "Reasons for why data not available: Ongoing trial or research\n",
      "\u001b[0m\n",
      "\u001b[1mNumber of papers by Funder type\n",
      "\u001b[0m FunderType\n",
      "1_Industry             2\n",
      "2_NonIndustryNIH       0\n",
      "3_NonIndustryNonNIH    2\n",
      "4_Mixed                9\n",
      "Name: OngoingTrialResearch, dtype: int64\n",
      "\u001b[1m\n",
      "Percentage of papers by Funder type\n",
      "\u001b[0m FunderType\n",
      "1_Industry              2.777778\n",
      "2_NonIndustryNIH        0.000000\n",
      "3_NonIndustryNonNIH     4.347826\n",
      "4_Mixed                30.000000\n",
      "dtype: float64\n",
      "\u001b[1m\n",
      "Number of papers\n",
      "\u001b[0m OngoingTrialResearch\n",
      "1.0    13\n",
      "Name: ID, dtype: int64\n",
      "\u001b[1m\n",
      "Percentage of papers\n",
      "\u001b[0m OngoingTrialResearch\n",
      "1.0    8.496732\n",
      "Name: ID, dtype: float64\n"
     ]
    }
   ],
   "source": [
    "# Ongoing trial or research\n",
    "\n",
    "ReasonsForNotSharingData(ClinicalTrialsDataSharing_NO, \"OngoingTrialResearch\", \"Ongoing trial or research\")"
   ]
  },
  {
   "cell_type": "code",
   "execution_count": 40,
   "metadata": {},
   "outputs": [
    {
     "name": "stdout",
     "output_type": "stream",
     "text": [
      "\u001b[1m\u001b[34m\n",
      "Reasons for why data not available: Regulatory approval\n",
      "\u001b[0m\n",
      "\u001b[1mNumber of papers by Funder type\n",
      "\u001b[0m FunderType\n",
      "1_Industry             3\n",
      "2_NonIndustryNIH       0\n",
      "3_NonIndustryNonNIH    1\n",
      "4_Mixed                0\n",
      "Name: RegulatoryApproval, dtype: int64\n",
      "\u001b[1m\n",
      "Percentage of papers by Funder type\n",
      "\u001b[0m FunderType\n",
      "1_Industry             4.166667\n",
      "2_NonIndustryNIH       0.000000\n",
      "3_NonIndustryNonNIH    2.173913\n",
      "4_Mixed                0.000000\n",
      "dtype: float64\n",
      "\u001b[1m\n",
      "Number of papers\n",
      "\u001b[0m RegulatoryApproval\n",
      "1.0    4\n",
      "Name: ID, dtype: int64\n",
      "\u001b[1m\n",
      "Percentage of papers\n",
      "\u001b[0m RegulatoryApproval\n",
      "1.0    2.614379\n",
      "Name: ID, dtype: float64\n"
     ]
    }
   ],
   "source": [
    "# Regulatory approval\n",
    "\n",
    "ReasonsForNotSharingData(ClinicalTrialsDataSharing_NO, \"RegulatoryApproval\", \"Regulatory approval\")"
   ]
  },
  {
   "cell_type": "code",
   "execution_count": 41,
   "metadata": {},
   "outputs": [
    {
     "name": "stdout",
     "output_type": "stream",
     "text": [
      "\u001b[1m\u001b[34m\n",
      "Reasons for why data not available: Proprietary data\n",
      "\u001b[0m\n",
      "\u001b[1mNumber of papers by Funder type\n",
      "\u001b[0m FunderType\n",
      "1_Industry             7\n",
      "2_NonIndustryNIH       0\n",
      "3_NonIndustryNonNIH    4\n",
      "4_Mixed                3\n",
      "Name: ProprietaryData, dtype: int64\n",
      "\u001b[1m\n",
      "Percentage of papers by Funder type\n",
      "\u001b[0m FunderType\n",
      "1_Industry              9.722222\n",
      "2_NonIndustryNIH        0.000000\n",
      "3_NonIndustryNonNIH     8.695652\n",
      "4_Mixed                10.000000\n",
      "dtype: float64\n",
      "\u001b[1m\n",
      "Number of papers\n",
      "\u001b[0m ProprietaryData\n",
      "1.0    14\n",
      "Name: ID, dtype: int64\n",
      "\u001b[1m\n",
      "Percentage of papers\n",
      "\u001b[0m ProprietaryData\n",
      "1.0    9.150327\n",
      "Name: ID, dtype: float64\n"
     ]
    }
   ],
   "source": [
    "# Data is proprietary\n",
    "\n",
    "ReasonsForNotSharingData(ClinicalTrialsDataSharing_NO, \"ProprietaryData\", \"Proprietary data\")"
   ]
  },
  {
   "cell_type": "code",
   "execution_count": 42,
   "metadata": {},
   "outputs": [
    {
     "name": "stdout",
     "output_type": "stream",
     "text": [
      "\u001b[1m\u001b[34m\n",
      "Reasons for why data not available: Data is shared among co-trialists only\n",
      "\u001b[0m\n",
      "\u001b[1mNumber of papers by Funder type\n",
      "\u001b[0m FunderType\n",
      "1_Industry             2\n",
      "2_NonIndustryNIH       0\n",
      "3_NonIndustryNonNIH    0\n",
      "4_Mixed                0\n",
      "Name: SharedAmongCoTrialistsOnly, dtype: int64\n",
      "\u001b[1m\n",
      "Percentage of papers by Funder type\n",
      "\u001b[0m FunderType\n",
      "1_Industry             2.777778\n",
      "2_NonIndustryNIH       0.000000\n",
      "3_NonIndustryNonNIH    0.000000\n",
      "4_Mixed                0.000000\n",
      "dtype: float64\n",
      "\u001b[1m\n",
      "Number of papers\n",
      "\u001b[0m SharedAmongCoTrialistsOnly\n",
      "1.0    2\n",
      "Name: ID, dtype: int64\n",
      "\u001b[1m\n",
      "Percentage of papers\n",
      "\u001b[0m SharedAmongCoTrialistsOnly\n",
      "1.0    1.30719\n",
      "Name: ID, dtype: float64\n"
     ]
    }
   ],
   "source": [
    "# Data is shared among co-trialists only\n",
    "\n",
    "ReasonsForNotSharingData(ClinicalTrialsDataSharing_NO, \"SharedAmongCoTrialistsOnly\", \"Data is shared among co-trialists only\")"
   ]
  },
  {
   "cell_type": "code",
   "execution_count": 43,
   "metadata": {},
   "outputs": [
    {
     "name": "stdout",
     "output_type": "stream",
     "text": [
      "\u001b[1m\u001b[34m\n",
      "Reasons for why data not available: Data may be available for collaboration\n",
      "\u001b[0m\n",
      "\u001b[1mNumber of papers by Funder type\n",
      "\u001b[0m FunderType\n",
      "1_Industry             6\n",
      "2_NonIndustryNIH       0\n",
      "3_NonIndustryNonNIH    0\n",
      "4_Mixed                1\n",
      "Name: MayBeAvailableForCollab, dtype: int64\n",
      "\u001b[1m\n",
      "Percentage of papers by Funder type\n",
      "\u001b[0m FunderType\n",
      "1_Industry             8.333333\n",
      "2_NonIndustryNIH       0.000000\n",
      "3_NonIndustryNonNIH    0.000000\n",
      "4_Mixed                3.333333\n",
      "dtype: float64\n",
      "\u001b[1m\n",
      "Number of papers\n",
      "\u001b[0m MayBeAvailableForCollab\n",
      "1.0    7\n",
      "Name: ID, dtype: int64\n",
      "\u001b[1m\n",
      "Percentage of papers\n",
      "\u001b[0m MayBeAvailableForCollab\n",
      "1.0    4.575163\n",
      "Name: ID, dtype: float64\n"
     ]
    }
   ],
   "source": [
    "# Data may be available for collaboration\n",
    "\n",
    "ReasonsForNotSharingData(ClinicalTrialsDataSharing_NO, \"MayBeAvailableForCollab\", \"Data may be available for collaboration\")"
   ]
  },
  {
   "cell_type": "code",
   "execution_count": 44,
   "metadata": {},
   "outputs": [
    {
     "name": "stdout",
     "output_type": "stream",
     "text": [
      "\u001b[1m\u001b[34m\n",
      "Reasons for why data not available: Data may be available upon request\n",
      "\u001b[0m\n",
      "\u001b[1mNumber of papers by Funder type\n",
      "\u001b[0m FunderType\n",
      "1_Industry             19\n",
      "2_NonIndustryNIH        2\n",
      "3_NonIndustryNonNIH     6\n",
      "4_Mixed                 7\n",
      "Name: MayBeMadeAvailableUponRequest, dtype: int64\n",
      "\u001b[1m\n",
      "Percentage of papers by Funder type\n",
      "\u001b[0m FunderType\n",
      "1_Industry             26.388889\n",
      "2_NonIndustryNIH       40.000000\n",
      "3_NonIndustryNonNIH    13.043478\n",
      "4_Mixed                23.333333\n",
      "dtype: float64\n",
      "\u001b[1m\n",
      "Number of papers\n",
      "\u001b[0m MayBeMadeAvailableUponRequest\n",
      "1.0    34\n",
      "Name: ID, dtype: int64\n",
      "\u001b[1m\n",
      "Percentage of papers\n",
      "\u001b[0m MayBeMadeAvailableUponRequest\n",
      "1.0    22.222222\n",
      "Name: ID, dtype: float64\n"
     ]
    }
   ],
   "source": [
    "# Data may be available upon request\n",
    "\n",
    "ReasonsForNotSharingData(ClinicalTrialsDataSharing_NO, \"MayBeMadeAvailableUponRequest\", \"Data may be available upon request\")"
   ]
  },
  {
   "cell_type": "markdown",
   "metadata": {},
   "source": [
    "# 2. Declared versus Actual Availability of Data in Repository by Type of Funding (See Table 2 in the manuscript)"
   ]
  },
  {
   "cell_type": "code",
   "execution_count": 45,
   "metadata": {},
   "outputs": [],
   "source": [
    "# Select articles that proposed to make data available (upon request) on a repository\n",
    "\n",
    "ClinicalTrialsDataSharing_RepositoryRequest = ClinicalTrialsDataSharing[ClinicalTrialsDataSharing.RqstRepository == 1]\n",
    "N_RepositoryRequest = ClinicalTrialsDataSharing_RepositoryRequest['ID'].count()"
   ]
  },
  {
   "cell_type": "markdown",
   "metadata": {},
   "source": [
    "## 2.1. Is information about data logged in repository?"
   ]
  },
  {
   "cell_type": "code",
   "execution_count": 46,
   "metadata": {},
   "outputs": [
    {
     "name": "stdout",
     "output_type": "stream",
     "text": [
      "\u001b[1m\u001b[34m\n",
      "Request to repository: Information about data is logged in repository\n",
      "\u001b[0m\n",
      "\u001b[1mNumber of papers by Funder type\n",
      "\u001b[0m FunderType\n",
      "1_Industry             9.0\n",
      "2_NonIndustryNIH       7.0\n",
      "3_NonIndustryNonNIH    1.0\n",
      "4_Mixed                3.0\n",
      "Name: InformationAboutDataOnRepository, dtype: float64\n",
      "\u001b[1m\n",
      "Number of ALL papers (declaring to make data available through a repository) by Funder type\n",
      "\u001b[0m FunderType\n",
      "1_Industry             46\n",
      "2_NonIndustryNIH       22\n",
      "3_NonIndustryNonNIH     5\n",
      "4_Mixed                16\n",
      "Name: InformationAboutDataOnRepository, dtype: int64\n",
      "\u001b[1m\n",
      "Percentage of papers by Funder type\n",
      "\u001b[0m FunderType\n",
      "1_Industry             19.565217\n",
      "2_NonIndustryNIH       31.818182\n",
      "3_NonIndustryNonNIH    20.000000\n",
      "4_Mixed                18.750000\n",
      "dtype: float64\n",
      "\u001b[1m\n",
      "Number of papers\n",
      "\u001b[0m InformationAboutDataOnRepository\n",
      "0.0    69\n",
      "1.0    20\n",
      "Name: ID, dtype: int64\n",
      "\u001b[1m\n",
      "Percentage of papers\n",
      "\u001b[0m InformationAboutDataOnRepository\n",
      "0.0    77.52809\n",
      "1.0    22.47191\n",
      "Name: ID, dtype: float64\n"
     ]
    }
   ],
   "source": [
    "    print(colored(\"\\nRequest to repository: Information about data is logged in repository\\n\",'blue',attrs=['bold']))\n",
    "    print(colored(\"Number of papers by Funder type\\n\",attrs=['bold']), \\\n",
    "        ClinicalTrialsDataSharing_RepositoryRequest.groupby(['FunderType'])['InformationAboutDataOnRepository'].sum())\n",
    "    print(colored(\"\\nNumber of ALL papers (declaring to make data available through a repository) by Funder type\\n\",attrs=['bold']), \\\n",
    "        ClinicalTrialsDataSharing_RepositoryRequest.groupby(['FunderType'])['InformationAboutDataOnRepository'].count())\n",
    "    print(colored(\"\\nPercentage of papers by Funder type\\n\",attrs=['bold']), \\\n",
    "        ClinicalTrialsDataSharing_RepositoryRequest.groupby(['FunderType'])['InformationAboutDataOnRepository'].sum()/ \\\n",
    "        ClinicalTrialsDataSharing_RepositoryRequest.groupby(['FunderType'])['ID'].count()*100)\n",
    "    print(colored(\"\\nNumber of papers\\n\",attrs=['bold']), \\\n",
    "        ClinicalTrialsDataSharing_RepositoryRequest.groupby(['InformationAboutDataOnRepository'])['ID'].count())\n",
    "    print(colored(\"\\nPercentage of papers\\n\",attrs=['bold']), \\\n",
    "        ClinicalTrialsDataSharing_RepositoryRequest.groupby(['InformationAboutDataOnRepository'])['ID'].count()/N_RepositoryRequest*100)"
   ]
  },
  {
   "cell_type": "markdown",
   "metadata": {},
   "source": [
    "## 2.2. Are data available on repository to request?"
   ]
  },
  {
   "cell_type": "code",
   "execution_count": 47,
   "metadata": {},
   "outputs": [
    {
     "name": "stdout",
     "output_type": "stream",
     "text": [
      "\u001b[1m\u001b[34m\n",
      "Request to repository: Data is available on repository to request\n",
      "\u001b[0m\n",
      "\u001b[1mNumber of papers by Funder type\n",
      "\u001b[0m FunderType\n",
      "1_Industry             7.0\n",
      "2_NonIndustryNIH       7.0\n",
      "3_NonIndustryNonNIH    0.0\n",
      "4_Mixed                3.0\n",
      "Name: DataAvailableOnRepository, dtype: float64\n",
      "\u001b[1m\n",
      "Number of ALL papers (declaring to make data available through a repository) by Funder type\n",
      "\u001b[0m FunderType\n",
      "1_Industry             46\n",
      "2_NonIndustryNIH       22\n",
      "3_NonIndustryNonNIH     5\n",
      "4_Mixed                16\n",
      "Name: DataAvailableOnRepository, dtype: int64\n",
      "\u001b[1m\n",
      "Percentage of papers by Funder type\n",
      "\u001b[0m FunderType\n",
      "1_Industry             15.217391\n",
      "2_NonIndustryNIH       31.818182\n",
      "3_NonIndustryNonNIH     0.000000\n",
      "4_Mixed                18.750000\n",
      "dtype: float64\n",
      "\u001b[1m\n",
      "Number of papers\n",
      "\u001b[0m DataAvailableOnRepository\n",
      "0.0    72\n",
      "1.0    17\n",
      "Name: ID, dtype: int64\n",
      "\u001b[1m\n",
      "Percentage of papers\n",
      "\u001b[0m DataAvailableOnRepository\n",
      "0.0    80.898876\n",
      "1.0    19.101124\n",
      "Name: ID, dtype: float64\n"
     ]
    }
   ],
   "source": [
    "    print(colored(\"\\nRequest to repository: Data is available on repository to request\\n\",'blue',attrs=['bold']))\n",
    "    print(colored(\"Number of papers by Funder type\\n\",attrs=['bold']), \\\n",
    "        ClinicalTrialsDataSharing_RepositoryRequest.groupby(['FunderType'])['DataAvailableOnRepository'].sum())\n",
    "    print(colored(\"\\nNumber of ALL papers (declaring to make data available through a repository) by Funder type\\n\",attrs=['bold']), \\\n",
    "        ClinicalTrialsDataSharing_RepositoryRequest.groupby(['FunderType'])['DataAvailableOnRepository'].count())\n",
    "    print(colored(\"\\nPercentage of papers by Funder type\\n\",attrs=['bold']), \\\n",
    "        ClinicalTrialsDataSharing_RepositoryRequest.groupby(['FunderType'])['DataAvailableOnRepository'].sum()/ \\\n",
    "        ClinicalTrialsDataSharing_RepositoryRequest.groupby(['FunderType'])['ID'].count()*100)\n",
    "    print(colored(\"\\nNumber of papers\\n\",attrs=['bold']), \\\n",
    "        ClinicalTrialsDataSharing_RepositoryRequest.groupby(['DataAvailableOnRepository'])['ID'].count())\n",
    "    print(colored(\"\\nPercentage of papers\\n\",attrs=['bold']), \\\n",
    "        ClinicalTrialsDataSharing_RepositoryRequest.groupby(['DataAvailableOnRepository'])['ID'].count()/N_RepositoryRequest*100)"
   ]
  },
  {
   "cell_type": "markdown",
   "metadata": {},
   "source": [
    "## 2.3. Relationship between data unavailability in repositories and embargo or product approval"
   ]
  },
  {
   "cell_type": "code",
   "execution_count": 48,
   "metadata": {},
   "outputs": [],
   "source": [
    "# Declared Embargo OR Product Approval among articles for which data were not available on repositories to request\n",
    "\n",
    "ClinicalTrialsDataSharing_NotAvailableOnRepository = ClinicalTrialsDataSharing[ClinicalTrialsDataSharing.DataAvailableOnRepository == 0]\n",
    "N_NotAvailableOnRepository = ClinicalTrialsDataSharing_NotAvailableOnRepository['ID'].count()"
   ]
  },
  {
   "cell_type": "code",
   "execution_count": 49,
   "metadata": {},
   "outputs": [
    {
     "name": "stdout",
     "output_type": "stream",
     "text": [
      "\u001b[1m\u001b[34m\n",
      "Embargo and Product approval among papers for which data were NOT available on repository\n",
      "\u001b[0m\n",
      "\u001b[1mNumber of papers by Funder type\n",
      "\u001b[0m FunderType\n",
      "1_Industry             22.0\n",
      "2_NonIndustryNIH        8.0\n",
      "3_NonIndustryNonNIH     2.0\n",
      "4_Mixed                 5.0\n",
      "Name: EmbargoOrProductApproval, dtype: float64\n",
      "\u001b[1m\n",
      "Number of ALL papers that declared to make data available through a repository by Funder type\n",
      "\u001b[0m FunderType\n",
      "1_Industry             39\n",
      "2_NonIndustryNIH       15\n",
      "3_NonIndustryNonNIH     5\n",
      "4_Mixed                13\n",
      "Name: ID, dtype: int64\n",
      "\u001b[1m\n",
      "Percentage of papers by Funder type\n",
      "\u001b[0m FunderType\n",
      "1_Industry             56.410256\n",
      "2_NonIndustryNIH       53.333333\n",
      "3_NonIndustryNonNIH    40.000000\n",
      "4_Mixed                38.461538\n",
      "dtype: float64\n",
      "\u001b[1m\n",
      "Number of papers\n",
      "\u001b[0m EmbargoOrProductApproval\n",
      "1.0    37\n",
      "Name: ID, dtype: int64\n",
      "\u001b[1m\n",
      "Percentage of papers\n",
      "\u001b[0m EmbargoOrProductApproval\n",
      "1.0    51.388889\n",
      "Name: ID, dtype: float64\n"
     ]
    }
   ],
   "source": [
    "    print(colored(\"\\nEmbargo and Product approval among papers for which data were NOT available on repository\\n\",'blue',attrs=['bold']))\n",
    "    print(colored(\"Number of papers by Funder type\\n\",attrs=['bold']), \\\n",
    "        ClinicalTrialsDataSharing_NotAvailableOnRepository.groupby(['FunderType'])['EmbargoOrProductApproval'].sum())\n",
    "    print(colored(\"\\nNumber of ALL papers that declared to make data available through a repository by Funder type\\n\",attrs=['bold']), \\\n",
    "        ClinicalTrialsDataSharing_NotAvailableOnRepository.groupby(['FunderType'])['ID'].count())\n",
    "    print(colored(\"\\nPercentage of papers by Funder type\\n\",attrs=['bold']), \\\n",
    "        ClinicalTrialsDataSharing_NotAvailableOnRepository.groupby(['FunderType'])['EmbargoOrProductApproval'].sum()/ \\\n",
    "        ClinicalTrialsDataSharing_NotAvailableOnRepository.groupby(['FunderType'])['ID'].count()*100)\n",
    "    print(colored(\"\\nNumber of papers\\n\",attrs=['bold']), \\\n",
    "        ClinicalTrialsDataSharing_NotAvailableOnRepository.groupby(['EmbargoOrProductApproval'])['ID'].count())\n",
    "    print(colored(\"\\nPercentage of papers\\n\",attrs=['bold']), \\\n",
    "        ClinicalTrialsDataSharing_NotAvailableOnRepository.groupby(['EmbargoOrProductApproval'])['ID'].count()/N_NotAvailableOnRepository*100)"
   ]
  },
  {
   "cell_type": "markdown",
   "metadata": {},
   "source": [
    "# 3. Percentage and 95% CI for declared data sharing by Funder type, Journal, and Publication Date (Figure 1 in the manuscript) "
   ]
  },
  {
   "cell_type": "code",
   "execution_count": 50,
   "metadata": {},
   "outputs": [],
   "source": [
    "sns.set(style=\"ticks\", color_codes=True); np.random.seed(5)"
   ]
  },
  {
   "cell_type": "code",
   "execution_count": 51,
   "metadata": {},
   "outputs": [
    {
     "data": {
      "image/png": "[encoded data removed]",
      "text/plain": [
       "<Figure size 252x360 with 1 Axes>"
      ]
     },
     "metadata": {},
     "output_type": "display_data"
    }
   ],
   "source": [
    "# Plot percentage of declared data sharing by Funder type, Figure 1A in the manuscript. \n",
    "\n",
    "sns.set_context(\"notebook\", font_scale=1.3)\n",
    "\n",
    "sns_fig1A=sns.catplot(x=\"FunderType\", y=\"DeclaredDataSharing\", kind=\"bar\", \n",
    "            palette=\"muted\", aspect=0.7,\n",
    "            ci=95,n_boot=100000,capsize=0.3,errwidth=0.9,\n",
    "            estimator=lambda x: sum(x==1)*100.0/len(x),\n",
    "            order = [\"1_Industry\", \"2_NonIndustryNIH\", \"3_NonIndustryNonNIH\",\"4_Mixed\"], \n",
    "            data = ClinicalTrialsDataSharing)\n",
    "sns_fig1A.set(xlabel=\"Funder Type\", ylabel = \"Declared data sharing (%)\")\n",
    "sns_fig1A.set_xticklabels([\"Industry\", \"Non-industry NIH\", \"Non-industry non-NIH\",\"Mixed\"])\n",
    "sns_fig1A.fig.autofmt_xdate()\n",
    "get_CIs = plt.gca().lines\n",
    "sns_fig1A.savefig(\"Fig1A_DeclaredDataSharingByFunderType.pdf\")"
   ]
  },
  {
   "cell_type": "code",
   "execution_count": 52,
   "metadata": {},
   "outputs": [
    {
     "name": "stdout",
     "output_type": "stream",
     "text": [
      "Lower 95% CI by Funder type: [54.30107526881721, 80.0, 66.47398843930635, 53.01204819277108]\n",
      "Upper 95% CI by Funder type: [68.27956989247312, 97.77777777777777, 79.76878612716763, 73.49397590361446]\n"
     ]
    }
   ],
   "source": [
    "# Extract Lower and Upper 95% confidence intervals by Funder type\n",
    "\n",
    "lower95CI = [get_CI.get_ydata().min() for get_CI in get_CIs]\n",
    "upper95CI = [get_CI.get_ydata().max() for get_CI in get_CIs]\n",
    "print(\"Lower 95% CI by Funder type:\", lower95CI[::3])\n",
    "print(\"Upper 95% CI by Funder type:\", upper95CI[::3])"
   ]
  },
  {
   "cell_type": "code",
   "execution_count": 53,
   "metadata": {},
   "outputs": [
    {
     "data": {
      "image/png": "[encoded data removed]",
      "text/plain": [
       "<Figure size 569.565x360 with 1 Axes>"
      ]
     },
     "metadata": {},
     "output_type": "display_data"
    }
   ],
   "source": [
    "# Plot percentage of declared data sharing by Funder type and Journal, Figure 1B in the manuscript. \n",
    "\n",
    "sns.set_context(\"notebook\", font_scale=1.4)\n",
    "\n",
    "sns_fig1B=sns.catplot(x=\"Journal\", y=\"DeclaredDataSharing\", hue=\"FunderType\", kind=\"bar\", palette=\"muted\",\n",
    "            ci=95,n_boot=100000,capsize=0.07,errwidth=0.9,\n",
    "            estimator=lambda x: sum(x==1)*100.0/len(x),\n",
    "            hue_order = [\"1_Industry\", \"2_NonIndustryNIH\", \"3_NonIndustryNonNIH\",\"4_Mixed\"],\n",
    "            data=ClinicalTrialsDataSharing)\n",
    "sns_fig1B.set(ylabel = \"Declared data sharing (%)\")\n",
    "\n",
    "legend_sns_fig1B = sns_fig1B._legend\n",
    "legend_sns_fig1B.set_title(\"Funder Type\")\n",
    "for a, b in zip(legend_sns_fig1B.texts,(\"Industry\", \"Non-industry NIH\", \"Non-industry non-NIH\",\"Mixed\")):\n",
    "    a.set_text(b)\n",
    "#get_CIs = plt.gca().lines\n",
    "sns_fig1B.savefig(\"Fig1B_DeclaredDataSharingByJournalByFunderType.pdf\")"
   ]
  },
  {
   "cell_type": "code",
   "execution_count": 54,
   "metadata": {},
   "outputs": [
    {
     "data": {
      "image/png": "[encoded data removed]",
      "text/plain": [
       "<Figure size 720x360 with 1 Axes>"
      ]
     },
     "metadata": {},
     "output_type": "display_data"
    }
   ],
   "source": [
    "# Plot percentage of declared data sharing by Publication date represented in quarters, Figure 1C in the manuscript. \n",
    "sns.set(style=\"ticks\", color_codes=True)\n",
    "#sns.set_context(\"notebook\", font_scale=1.4)\n",
    "\n",
    "#sns.set_style(\"dark\")\n",
    "sns.set_context(\"notebook\", font_scale=1.4,rc={\"lines.linewidth\": 3,'lines.markersize': 10})\n",
    "plt.figure(figsize=(10,5))\n",
    "ax = sns.lineplot(x=\"PublicationYearQuarter\", y=\"DeclaredDataSharing\", err_style=\"bars\",\n",
    "                  ci=95,n_boot=100000,marker='o',\n",
    "                  estimator=lambda x: sum(x==1)*100.0/len(x),\n",
    "                  color='m',\n",
    "                  data=ClinicalTrialsDataSharing)\n",
    "\n",
    "ax.lines[0].set_linestyle(\"--\")\n",
    "ax.lines[0].set_linewidth(3)\n",
    "ax.set(ylim=(0, 100))\n",
    "ax.set(ylabel = \"Declared data sharing (%)\")\n",
    "ax.set(xlabel = \"Publication date (in quarters)\")\n",
    "plt.xticks(rotation=30)\n",
    "plt.tight_layout()\n",
    "sns.despine()\n",
    "ax.figure.savefig(\"Fig1C_DeclaredDataSharingByPublicationDate.pdf\")"
   ]
  },
  {
   "cell_type": "code",
   "execution_count": 55,
   "metadata": {},
   "outputs": [
    {
     "data": {
      "text/plain": [
       "PublicationYearQuarter\n",
       "2018-Q3    17\n",
       "2018-Q4    56\n",
       "2019-Q1    83\n",
       "2019-Q2    83\n",
       "2019-Q3    88\n",
       "2019-Q4    92\n",
       "2020-Q1    68\n",
       "Name: ID, dtype: int64"
      ]
     },
     "execution_count": 55,
     "metadata": {},
     "output_type": "execute_result"
    }
   ],
   "source": [
    "# Count the number of articles per quarter\n",
    "\n",
    "ClinicalTrialsDataSharing.groupby(['PublicationYearQuarter'])['ID'].count()"
   ]
  },
  {
   "cell_type": "markdown",
   "metadata": {},
   "source": [
    "# 4. Repository name and number of articles intending to store data in respective reepository, as stated in DSS (Figure 2 in the manuscript)"
   ]
  },
  {
   "cell_type": "code",
   "execution_count": 56,
   "metadata": {},
   "outputs": [
    {
     "data": {
      "text/html": [
       "<div>\n",
       "<style scoped>\n",
       "    .dataframe tbody tr th:only-of-type {\n",
       "        vertical-align: middle;\n",
       "    }\n",
       "\n",
       "    .dataframe tbody tr th {\n",
       "        vertical-align: top;\n",
       "    }\n",
       "\n",
       "    .dataframe thead th {\n",
       "        text-align: right;\n",
       "    }\n",
       "</style>\n",
       "<table border=\"1\" class=\"dataframe\">\n",
       "  <thead>\n",
       "    <tr style=\"text-align: right;\">\n",
       "      <th></th>\n",
       "      <th>RepositoryName</th>\n",
       "      <th>count</th>\n",
       "    </tr>\n",
       "  </thead>\n",
       "  <tbody>\n",
       "    <tr>\n",
       "      <th>2</th>\n",
       "      <td>ClinicalStudyDateRequest.com (CSDR)</td>\n",
       "      <td>31</td>\n",
       "    </tr>\n",
       "    <tr>\n",
       "      <th>3</th>\n",
       "      <td>NCTN/NCORP Data Archive</td>\n",
       "      <td>10</td>\n",
       "    </tr>\n",
       "    <tr>\n",
       "      <th>1</th>\n",
       "      <td>BioLINCC NHLBI Biospecimens and Data</td>\n",
       "      <td>9</td>\n",
       "    </tr>\n",
       "    <tr>\n",
       "      <th>9</th>\n",
       "      <td>The Yale Open Data Access (YODA) Project</td>\n",
       "      <td>7</td>\n",
       "    </tr>\n",
       "    <tr>\n",
       "      <th>10</th>\n",
       "      <td>Vivli Center for Global Clinical Research Data</td>\n",
       "      <td>7</td>\n",
       "    </tr>\n",
       "    <tr>\n",
       "      <th>4</th>\n",
       "      <td>NICHD Data and Specimen Hub (DASH)</td>\n",
       "      <td>5</td>\n",
       "    </tr>\n",
       "    <tr>\n",
       "      <th>6</th>\n",
       "      <td>NINDS Archived Clinical Research Datasets</td>\n",
       "      <td>4</td>\n",
       "    </tr>\n",
       "    <tr>\n",
       "      <th>0</th>\n",
       "      <td>Bern Open Repository and Information System (BORIS)</td>\n",
       "      <td>3</td>\n",
       "    </tr>\n",
       "    <tr>\n",
       "      <th>5</th>\n",
       "      <td>NIDDK Central Repository</td>\n",
       "      <td>2</td>\n",
       "    </tr>\n",
       "    <tr>\n",
       "      <th>8</th>\n",
       "      <td>The Jaeb Center for Health Research</td>\n",
       "      <td>2</td>\n",
       "    </tr>\n",
       "    <tr>\n",
       "      <th>7</th>\n",
       "      <td>Other</td>\n",
       "      <td>9</td>\n",
       "    </tr>\n",
       "  </tbody>\n",
       "</table>\n",
       "</div>"
      ],
      "text/plain": [
       "                                         RepositoryName  count\n",
       "2                   ClinicalStudyDateRequest.com (CSDR)     31\n",
       "3                               NCTN/NCORP Data Archive     10\n",
       "1                  BioLINCC NHLBI Biospecimens and Data      9\n",
       "9              The Yale Open Data Access (YODA) Project      7\n",
       "10       Vivli Center for Global Clinical Research Data      7\n",
       "4                    NICHD Data and Specimen Hub (DASH)      5\n",
       "6             NINDS Archived Clinical Research Datasets      4\n",
       "0   Bern Open Repository and Information System (BORIS)      3\n",
       "5                              NIDDK Central Repository      2\n",
       "8                   The Jaeb Center for Health Research      2\n",
       "7                                                 Other      9"
      ]
     },
     "metadata": {},
     "output_type": "display_data"
    }
   ],
   "source": [
    "# First aggregate repositories mentioned only in one article/DSS into category Other.\n",
    "\n",
    "ClinicalTrialsDataSharing_Other=ClinicalTrialsDataSharing.replace({'RepositoryName': \n",
    "                        {'Clinical Trial Research Centre (CTRC) University of Liverpool': 'Other',\n",
    "                        'University of Glasgow Robertson Centre for Biostatistics': 'Other',\n",
    "                        'Clinical Trials Unit University of Bern': 'Other',\n",
    "                        'Free Bank of Injury and Emergency Research Data (freeBIRD)': 'Other',\n",
    "                        'GEMINI Shared Repository (GEMShare)': 'Other',\n",
    "                        'HCA Healthcare data enclave': 'Other',\n",
    "                        'University of Minesota Repository': 'Other',\n",
    "                        'USAID Development Data Library (DDL)': 'Other',\n",
    "                        'Virtual Trials Archives, VISTA': 'Other'}})\n",
    "\n",
    "# Count the number of intending-to-store-IPD-in-repository articles per repository \n",
    "ClinicalTrialsDataSharing_Other_RepositoryCount=ClinicalTrialsDataSharing_Other.groupby(['RepositoryName'])['ID'].\\\n",
    "                                        count().to_frame(name='count').reset_index()\n",
    "\n",
    "# Sort repositories and place Other at the end  \n",
    "ClinicalTrialsDataSharing_Other_RepositoryCount_Sorted = ClinicalTrialsDataSharing_Other_RepositoryCount.\\\n",
    "                                        reindex([2,3,1,9,10,4,6,0,5,8,7])\n",
    "\n",
    "display(ClinicalTrialsDataSharing_Other_RepositoryCount_Sorted)"
   ]
  },
  {
   "cell_type": "code",
   "execution_count": 57,
   "metadata": {},
   "outputs": [],
   "source": [
    "# Display the actual value for each bar on the plot\n",
    "#See https://stackoverflow.com/questions/43214978/seaborn-barplot-displaying-values\n",
    "    \n",
    "def show_values_on_bars(axs, h_v=\"v\", space=0.5):\n",
    "    def _show_on_single_plot(ax):\n",
    "        if h_v == \"v\":\n",
    "            for p in ax.patches:\n",
    "                _x = p.get_x() + p.get_width() / 2\n",
    "                _y = p.get_y() + p.get_height()\n",
    "                value = int(p.get_height())\n",
    "                ax.text(_x, _y, value, ha=\"center\") \n",
    "        elif h_v == \"h\":\n",
    "            for p in ax.patches:\n",
    "                _x = p.get_x() + p.get_width() + float(space)\n",
    "                _y = p.get_y() + p.get_height()-0.2\n",
    "                value = int(p.get_width())\n",
    "                ax.text(_x, _y, value, ha=\"left\")\n",
    "\n",
    "    if isinstance(axs, np.ndarray):\n",
    "        for idx, ax in np.ndenumerate(axs):\n",
    "            _show_on_single_plot(ax)\n",
    "    else:\n",
    "        _show_on_single_plot(axs)"
   ]
  },
  {
   "cell_type": "code",
   "execution_count": 58,
   "metadata": {},
   "outputs": [
    {
     "data": {
      "image/png": "[encoded data removed]",
      "text/plain": [
       "<Figure size 1008x432 with 1 Axes>"
      ]
     },
     "metadata": {},
     "output_type": "display_data"
    }
   ],
   "source": [
    "# Plot Figure 2 in the manuscript\n",
    "\n",
    "sns.set(style=\"ticks\", color_codes=True)\n",
    "sns.set_context(\"notebook\", font_scale=1.4)\n",
    "sns_fig2=sns.catplot(x=\"count\", y=\"RepositoryName\", kind=\"bar\", \n",
    "                     data=ClinicalTrialsDataSharing_Other_RepositoryCount_Sorted, \n",
    "                     orient=\"h\",height=6, aspect=14/6, \n",
    "                     palette=sns.color_palette(['#1abc9c','#1abc9c','#1abc9c','#1abc9c','#1abc9c','#1abc9c',\n",
    "                                                '#1abc9c','#1abc9c','#1abc9c','#1abc9c','darkgrey']))\n",
    "ax = plt.gca()\n",
    "show_values_on_bars(ax,\"h\",0.5)\n",
    "\n",
    "ax.set_ylabel('')\n",
    "ax.set(xlim=(0, 89))\n",
    "ax.set_xlabel('Number of articles intending to share IPD in repositories')\n",
    "sns_fig2.savefig(\"Fig2_Repositories_IPD_IntendToShare.pdf\")"
   ]
  },
  {
   "cell_type": "markdown",
   "metadata": {},
   "source": [
    "# 5. Declared versus actual data sharing (Figure 3 in the manuscript)"
   ]
  },
  {
   "cell_type": "code",
   "execution_count": 59,
   "metadata": {},
   "outputs": [
    {
     "data": {
      "text/html": [
       "<div>\n",
       "<style scoped>\n",
       "    .dataframe tbody tr th:only-of-type {\n",
       "        vertical-align: middle;\n",
       "    }\n",
       "\n",
       "    .dataframe tbody tr th {\n",
       "        vertical-align: top;\n",
       "    }\n",
       "\n",
       "    .dataframe thead th {\n",
       "        text-align: right;\n",
       "    }\n",
       "</style>\n",
       "<table border=\"1\" class=\"dataframe\">\n",
       "  <thead>\n",
       "    <tr style=\"text-align: right;\">\n",
       "      <th></th>\n",
       "      <th>IndicatorsDataSharing</th>\n",
       "      <th>NumberOfArticles</th>\n",
       "    </tr>\n",
       "  </thead>\n",
       "  <tbody>\n",
       "    <tr>\n",
       "      <th>0</th>\n",
       "      <td>AllArticles</td>\n",
       "      <td>487</td>\n",
       "    </tr>\n",
       "    <tr>\n",
       "      <th>1</th>\n",
       "      <td>DeclaredDataSharing=YES</td>\n",
       "      <td>334</td>\n",
       "    </tr>\n",
       "    <tr>\n",
       "      <th>2</th>\n",
       "      <td>DataType=IPD</td>\n",
       "      <td>255</td>\n",
       "    </tr>\n",
       "    <tr>\n",
       "      <th>3</th>\n",
       "      <td>RqstRepository</td>\n",
       "      <td>89</td>\n",
       "    </tr>\n",
       "    <tr>\n",
       "      <th>4</th>\n",
       "      <td>InformationAboutDataOnRepository</td>\n",
       "      <td>20</td>\n",
       "    </tr>\n",
       "    <tr>\n",
       "      <th>5</th>\n",
       "      <td>DataAvailableOnRepository</td>\n",
       "      <td>17</td>\n",
       "    </tr>\n",
       "    <tr>\n",
       "      <th>6</th>\n",
       "      <td>DataAvailableToOthers</td>\n",
       "      <td>2</td>\n",
       "    </tr>\n",
       "  </tbody>\n",
       "</table>\n",
       "</div>"
      ],
      "text/plain": [
       "              IndicatorsDataSharing  NumberOfArticles\n",
       "0                       AllArticles               487\n",
       "1           DeclaredDataSharing=YES               334\n",
       "2                      DataType=IPD               255\n",
       "3                    RqstRepository                89\n",
       "4  InformationAboutDataOnRepository                20\n",
       "5         DataAvailableOnRepository                17\n",
       "6             DataAvailableToOthers                 2"
      ]
     },
     "execution_count": 59,
     "metadata": {},
     "output_type": "execute_result"
    }
   ],
   "source": [
    "# Create data frame using aggreegate quantities about clinical trial data sharing computed in previous sections \n",
    "\n",
    "Data_Fig3 = {'IndicatorsDataSharing': ['AllArticles','DeclaredDataSharing=YES','DataType=IPD','RqstRepository',\n",
    "                 'InformationAboutDataOnRepository','DataAvailableOnRepository', 'DataAvailableToOthers'],\n",
    "        'NumberOfArticles': [487,334,255,89,20,17,2]}\n",
    "\n",
    "Data_Fig3_df = pd.DataFrame(Data_Fig3, columns = ['IndicatorsDataSharing', 'NumberOfArticles'])\n",
    "Data_Fig3_df"
   ]
  },
  {
   "cell_type": "code",
   "execution_count": 60,
   "metadata": {},
   "outputs": [
    {
     "data": {
      "image/png": "[encoded data removed]",
      "text/plain": [
       "<Figure size 1008x360 with 1 Axes>"
      ]
     },
     "metadata": {},
     "output_type": "display_data"
    }
   ],
   "source": [
    "# Plot Figure 3 in the manuscript\n",
    "\n",
    "sns.set(style=\"ticks\", color_codes=True)\n",
    "sns.set_context(\"notebook\", font_scale=1.4)\n",
    "sns_fig3=sns.catplot(x=\"NumberOfArticles\", y=\"IndicatorsDataSharing\", kind=\"bar\", data=Data_Fig3_df, \n",
    "                     orient=\"h\",height=5, aspect=14/5, palette='Blues_d')\n",
    "ax = plt.gca()\n",
    "show_values_on_bars(ax,\"h\",5)\n",
    "sns_fig3.set_yticklabels([\"All articles\", \n",
    "                          \"Articles declaring to share data from clinical studies\", \n",
    "                          \"Articles declaring to share individual participant data (IPD)\",\n",
    "                          \"Articles declaring to store IPD on repository\",\n",
    "                          \"Information about IPD is available on repository\",\n",
    "                          \"Deidentified IPD is available on repository\",\n",
    "                          \"Deidentified IPD is publicly available for others to use\"])\n",
    "\n",
    "ax.set_ylabel('')\n",
    "ax.set_xlabel('Number of articles')\n",
    "sns_fig3.savefig(\"Fig3_DeclaredActualDataSharing.pdf\")"
   ]
  }
 ],
 "metadata": {
  "kernelspec": {
   "display_name": "Python 3",
   "language": "python",
   "name": "python3"
  },
  "language_info": {
   "codemirror_mode": {
    "name": "ipython",
    "version": 3
   },
   "file_extension": ".py",
   "mimetype": "text/x-python",
   "name": "python",
   "nbconvert_exporter": "python",
   "pygments_lexer": "ipython3",
   "version": "3.6.8"
  }
 },
 "nbformat": 4,
 "nbformat_minor": 2
}
